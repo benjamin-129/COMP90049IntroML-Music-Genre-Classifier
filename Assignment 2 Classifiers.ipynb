{
 "cells": [
  {
   "cell_type": "markdown",
   "metadata": {},
   "source": [
    "# Assignment 2 Music Genre Classifier Workings - Benjamin Tam 889835"
   ]
  },
  {
   "cell_type": "code",
   "execution_count": 39,
   "metadata": {},
   "outputs": [],
   "source": [
    "import pandas as pd\n",
    "import numpy as np\n",
    "import sklearn\n",
    "import matplotlib.pyplot as plt\n",
    "from sklearn import metrics\n",
    "from sklearn import tree \n",
    "from sklearn.neural_network import MLPClassifier\n",
    "from sklearn.naive_bayes import GaussianNB\n",
    "from sklearn.model_selection import learning_curve\n",
    "from sklearn.model_selection import StratifiedKFold\n",
    "from sklearn.model_selection import train_test_split\n",
    "from sklearn.feature_selection import SelectKBest\n",
    "from sklearn.feature_selection import f_classif\n",
    "from sklearn.feature_selection import mutual_info_classif\n",
    "from sklearn.dummy import DummyClassifier\n",
    "from sklearn.ensemble import BaggingClassifier\n",
    "\n",
    "def pre_process():\n",
    "    \n",
    "    \n",
    "    # Training data\n",
    "    train_features = pd.read_csv(\"train_features.csv\")\n",
    "    train_labels = pd.read_csv(\"train_labels.csv\")\n",
    "\n",
    "    # Validation data\n",
    "    valid_features = pd.read_csv(\"valid_features.csv\")\n",
    "    valid_labels = pd.read_csv(\"valid_labels.csv\")\n",
    "\n",
    "    # Test data for kaggle\n",
    "    test_features = pd.read_csv(\"test_features.csv\")\n",
    "    \n",
    "    return train_features, train_labels, valid_features, valid_labels, test_features\n",
    "\n",
    "\n",
    "train_features, train_labels, valid_features, valid_labels, test_features = pre_process()\n",
    "\n",
    "# Find and Replace Metadata class data with int\n",
    "\n",
    "genre_labels = {\"genre\" : {\"soul and reggae\" : 0, \"pop\" : 1, \"punk\" : 2, \"jazz and blues\" : 3, \n",
    "                           \"dance and electronica\" : 4, \"folk\" : 5, \"classic pop and rock\" : 6\n",
    "                          ,\"metal\" : 7}}\n",
    "\n",
    "# Dict to convert back to genre for kaggle.\n",
    "\n",
    "genre_code_labels = {\"genre\" : {0 : \"soul and reggae\", 1: \"pop\", 2: \"punk\", 3 : \"jazz and blues\", \n",
    "                           4: \"dance and electronica\", 5: \"folk\", 6 : \"classic pop and rock\"\n",
    "                          , 7 : \"metal\"}}\n"
   ]
  },
  {
   "cell_type": "code",
   "execution_count": null,
   "metadata": {},
   "outputs": [],
   "source": []
  },
  {
   "cell_type": "code",
   "execution_count": 2,
   "metadata": {},
   "outputs": [],
   "source": [
    "# GNB Functions\n",
    "\n",
    "# Train model for Gaussian Naive Bayes\n",
    "def train_gnb(train_features, train_labels):\n",
    "    \n",
    "    # Create GNB classifier\n",
    "    gnb = GaussianNB()\n",
    "    \n",
    "    # Fit data\n",
    "    gnb.fit(train_features, train_labels.values.ravel())\n",
    "    \n",
    "    return gnb\n",
    "\n",
    "def predict_gnb(gnb, valid_features):\n",
    "        return gnb.predict(valid_features)"
   ]
  },
  {
   "cell_type": "code",
   "execution_count": 3,
   "metadata": {},
   "outputs": [],
   "source": [
    "# Decision Tree Functions\n",
    "\n",
    "def train_tree(train_features, train_labels, depth):\n",
    "    \n",
    "    # Create decision tree classifier using training data\n",
    "    decision_tree = tree.DecisionTreeClassifier(criterion='entropy', max_depth=depth)\n",
    "\n",
    "    decision_tree.fit(train_features, train_labels)\n",
    "    \n",
    "    return decision_tree\n",
    "\n",
    "def tree_predict(classifier, features):\n",
    "    return classifier.predict(features)"
   ]
  },
  {
   "cell_type": "code",
   "execution_count": 4,
   "metadata": {},
   "outputs": [],
   "source": [
    "# Neural Network MLP Functions\n",
    "\n",
    "def train_mlp(train_features, train_labels, random_state=1, max_iter=300):\n",
    "    mlp = MLPClassifier(random_state=random_state, max_iter=max_iter).fit(train_features, train_labels.values.ravel())\n",
    "    return mlp\n",
    "\n",
    "def predict_mlp(mlp, valid_features):\n",
    "    return mlp.predict(valid_features)"
   ]
  },
  {
   "cell_type": "code",
   "execution_count": 5,
   "metadata": {},
   "outputs": [],
   "source": [
    "# Evaluation Function\n",
    "def evaluate(true_list, predict_list):\n",
    "    # Takes the true list and predicted list and outputs metrics\n",
    "    \n",
    "    confusion_matrix = metrics.confusion_matrix(true_list, predict_list)\n",
    "    accuracy = metrics.accuracy_score(true_list, predict_list)\n",
    "    precf1 = metrics.precision_recall_fscore_support(true_list, predict_list)\n",
    "    \n",
    "    return confusion_matrix, accuracy, precf1"
   ]
  },
  {
   "cell_type": "code",
   "execution_count": null,
   "metadata": {},
   "outputs": [],
   "source": []
  },
  {
   "cell_type": "markdown",
   "metadata": {},
   "source": [
    "## Metadata feature model"
   ]
  },
  {
   "cell_type": "code",
   "execution_count": 6,
   "metadata": {},
   "outputs": [
    {
     "name": "stderr",
     "output_type": "stream",
     "text": [
      "C:\\Users\\User\\anaconda3\\lib\\site-packages\\pandas\\core\\generic.py:6662: SettingWithCopyWarning: \n",
      "A value is trying to be set on a copy of a slice from a DataFrame.\n",
      "Try using .loc[row_indexer,col_indexer] = value instead\n",
      "\n",
      "See the caveats in the documentation: https://pandas.pydata.org/pandas-docs/stable/user_guide/indexing.html#returning-a-view-versus-a-copy\n",
      "  res[c] = res[c].replace(\n"
     ]
    }
   ],
   "source": [
    "# Preprocess Metadata Feature data\n",
    "\n",
    "def meta_pre_process():\n",
    "    # Metadata Features w Labels\n",
    "    meta_train = train_features[['trackID', 'title', 'loudness', 'tempo', 'time_signature', 'key', 'mode','duration']]\n",
    "\n",
    "    meta_labelled = pd.concat([meta_train.set_index('trackID'),train_labels.set_index('trackID')], axis=1, join='inner').reset_index()\n",
    "\n",
    "    # Processing Feature data\n",
    "    meta_train_features = meta_labelled[['loudness', 'tempo', 'time_signature', 'key', 'mode', 'duration']]\n",
    "\n",
    "    meta_train_labels = train_labels[['genre']]\n",
    "    meta_train_labels.replace(genre_labels, inplace = True)\n",
    "\n",
    "    # Process Validation data\n",
    "    meta_valid_features = valid_features[['loudness', 'tempo', 'time_signature', 'key', 'mode', 'duration']]\n",
    "\n",
    "    meta_valid_labels = valid_labels[['genre']]\n",
    "    meta_valid_labels.replace(genre_labels, inplace = True)\n",
    "\n",
    "    # Test features data processing\n",
    "    meta_test_features = test_features[['loudness', 'tempo', 'time_signature', 'key', 'mode', 'duration']]\n",
    "    \n",
    "    \n",
    "    return meta_train_features, meta_train_labels, meta_valid_features, meta_valid_labels, meta_test_features\n",
    "\n",
    "\n",
    "meta_train_features, meta_train_labels, meta_valid_features, meta_valid_labels, meta_test_features = meta_pre_process()"
   ]
  },
  {
   "cell_type": "markdown",
   "metadata": {},
   "source": [
    "### Zero-R/ Most-Frequent Baseline using Metadata Features"
   ]
  },
  {
   "cell_type": "code",
   "execution_count": 12,
   "metadata": {},
   "outputs": [
    {
     "name": "stdout",
     "output_type": "stream",
     "text": [
      "Confusion Matrix: \n",
      "[[ 0  0  0  0  0  0 58  0]\n",
      " [ 0  0  0  0  0  0 74  0]\n",
      " [ 0  0  0  0  0  0 44  0]\n",
      " [ 0  0  0  0  0  0 44  0]\n",
      " [ 0  0  0  0  0  0 45  0]\n",
      " [ 0  0  0  0  0  0 64  0]\n",
      " [ 0  0  0  0  0  0 55  0]\n",
      " [ 0  0  0  0  0  0 66  0]]\n",
      "Accuracy: 0.12222222222222222\n",
      "Precision: [0.         0.         0.         0.         0.         0.\n",
      " 0.12222222 0.        ]\n",
      "Recall: [0. 0. 0. 0. 0. 0. 1. 0.]\n",
      "F1: [0.         0.         0.         0.         0.         0.\n",
      " 0.21782178 0.        ]\n"
     ]
    },
    {
     "name": "stderr",
     "output_type": "stream",
     "text": [
      "C:\\Users\\User\\anaconda3\\lib\\site-packages\\sklearn\\metrics\\_classification.py:1221: UndefinedMetricWarning: Precision and F-score are ill-defined and being set to 0.0 in labels with no predicted samples. Use `zero_division` parameter to control this behavior.\n",
      "  _warn_prf(average, modifier, msg_start, len(result))\n"
     ]
    }
   ],
   "source": [
    "# Preprocess Metadata Feature\n",
    "meta_train_features, meta_train_labels, meta_valid_features, meta_valid_labels, meta_test_features = meta_pre_process()\n",
    "\n",
    "dummy = DummyClassifier(strategy=\"most_frequent\")\n",
    "\n",
    "# Fit training data\n",
    "dummy.fit(meta_train_features, meta_train_labels)\n",
    "\n",
    "# Test model on validation data\n",
    "dummy.score(meta_valid_features, meta_valid_labels)\n",
    "\n",
    "meta_predicted_valid_labels = dummy.predict(meta_valid_features)\n",
    "\n",
    "# evaluation of valid\n",
    "cm, acc, precf1 = evaluate(meta_valid_labels, meta_predicted_valid_labels)\n",
    "print(\"Confusion Matrix: \\n{}\\nAccuracy: {}\\nPrecision: {}\\nRecall: {}\\nF1: {}\".format\n",
    "      (cm, acc, precf1[0], precf1[1], precf1[2]))\n"
   ]
  },
  {
   "cell_type": "markdown",
   "metadata": {},
   "source": [
    "### Decision Tree on Metadata"
   ]
  },
  {
   "cell_type": "code",
   "execution_count": 7,
   "metadata": {},
   "outputs": [
    {
     "name": "stdout",
     "output_type": "stream",
     "text": [
      "Confusion Matrix: \n",
      "[[ 0  0  2  0  2  5 42  7]\n",
      " [ 0  0  5  0  0 14 51  4]\n",
      " [ 0  0 23  0  0  2 14  5]\n",
      " [ 0  0  0  0  1 22 20  1]\n",
      " [ 0  0  6  0  1  5 19 14]\n",
      " [ 0  0  1  0  0 24 34  5]\n",
      " [ 0  0  7  0  0 12 36  0]\n",
      " [ 0  0 17  0  0  0  5 44]]\n",
      "Accuracy: 0.28444444444444444\n",
      "Precision: [0.         0.         0.37704918 0.         0.25       0.28571429\n",
      " 0.16289593 0.55      ]\n",
      "Recall: [0.         0.         0.52272727 0.         0.02222222 0.375\n",
      " 0.65454545 0.66666667]\n",
      "F1: [0.         0.         0.43809524 0.         0.04081633 0.32432432\n",
      " 0.26086957 0.60273973]\n"
     ]
    },
    {
     "name": "stderr",
     "output_type": "stream",
     "text": [
      "C:\\Users\\User\\anaconda3\\lib\\site-packages\\sklearn\\metrics\\_classification.py:1221: UndefinedMetricWarning: Precision and F-score are ill-defined and being set to 0.0 in labels with no predicted samples. Use `zero_division` parameter to control this behavior.\n",
      "  _warn_prf(average, modifier, msg_start, len(result))\n"
     ]
    }
   ],
   "source": [
    "# Preprocess Metadata Feature\n",
    "meta_train_features, meta_train_labels, meta_valid_features, meta_valid_labels, meta_test_features = meta_pre_process()\n",
    "\n",
    "# Train the decision tree model for metadata, with \n",
    "meta_decision_tree = train_tree(meta_train_features, meta_train_labels, 4)\n",
    "\n",
    "# Decision tree using test features (Prediction)\n",
    "\n",
    "# meta_decision_tree.predict(meta_test_features)\n",
    "tree_predict(meta_decision_tree, meta_test_features)\n",
    "\n",
    "meta_test_df = pd.DataFrame({\"trackID\" : test_features['trackID'], \"genre\" : tree_predict(meta_decision_tree, meta_test_features)})\n",
    "\n",
    "\n",
    "# Replace genre codes back to labels\n",
    "meta_test_df.replace(genre_code_labels, inplace = True)\n",
    "\n",
    "meta_test_df\n",
    "\n",
    "# Output to CSV for kaggle\n",
    "# meta_test_df.to_csv(r'meta_test_0610.csv', index = False, header = True)\n",
    "\n",
    "\n",
    "# # Decision tree evaluatuion for valid_features and valid_labels\n",
    "meta_decision_tree.score(meta_valid_features,meta_valid_labels)\n",
    "\n",
    "meta_predicted_valid_labels = meta_decision_tree.predict(meta_valid_features)\n",
    "\n",
    "\n",
    "# # Plot tree\n",
    "# tree.plot_tree(meta_decision_tree)\n",
    "\n",
    "# meta_decision_tree.get_depth()\n",
    "\n",
    "\n",
    "# evaluation of valid\n",
    "cm, acc, precf1 = evaluate(meta_valid_labels, meta_predicted_valid_labels)\n",
    "print(\"Confusion Matrix: \\n{}\\nAccuracy: {}\\nPrecision: {}\\nRecall: {}\\nF1: {}\".format\n",
    "      (cm, acc, precf1[0], precf1[1], precf1[2]))\n",
    "\n"
   ]
  },
  {
   "cell_type": "code",
   "execution_count": 8,
   "metadata": {},
   "outputs": [
    {
     "data": {
      "text/plain": [
       "0.3769210731961448"
      ]
     },
     "execution_count": 8,
     "metadata": {},
     "output_type": "execute_result"
    }
   ],
   "source": [
    "# Get accuracy for training dataset\n",
    "meta_decision_tree.score(meta_train_features,meta_train_labels)"
   ]
  },
  {
   "cell_type": "code",
   "execution_count": 27,
   "metadata": {},
   "outputs": [
    {
     "data": {
      "text/plain": [
       "0.28444444444444444"
      ]
     },
     "execution_count": 27,
     "metadata": {},
     "output_type": "execute_result"
    }
   ],
   "source": [
    "# Finding the max number of levels that provides the highest level of accuracy\n",
    "\n",
    "tree_accuracy = []\n",
    "for i in range(1, 20):\n",
    "    meta_decision_tree = train_tree(meta_train_features, meta_train_labels, i)\n",
    "    tree_accuracy.append(meta_decision_tree.score(meta_valid_features, meta_valid_labels))\n",
    "\n",
    "tree_accuracy.index((max(tree_accuracy)))\n",
    "max(tree_accuracy)"
   ]
  },
  {
   "cell_type": "code",
   "execution_count": 14,
   "metadata": {},
   "outputs": [
    {
     "data": {
      "image/png": "[encoded data removed]",
      "text/plain": [
       "<Figure size 432x288 with 1 Axes>"
      ]
     },
     "metadata": {
      "needs_background": "light"
     },
     "output_type": "display_data"
    }
   ],
   "source": [
    "# Learning Curve for Decision Tree Classifier on Metadata Features\n",
    "estimator = meta_decision_tree\n",
    "train_sizes, train_scores, valid_scores= \\\n",
    "        learning_curve(estimator, meta_train_features, meta_train_labels, scoring='accuracy',cv=StratifiedKFold(10),\n",
    "                       train_sizes=np.linspace(.1, 1.0, 5))\n",
    "plt.figure()\n",
    "plt.xlabel(\"training size\")\n",
    "plt.ylabel(\"accuracy\")\n",
    "plt.plot(train_sizes,  np.mean(train_scores, axis=1), 'o-', color=\"r\",\n",
    "                 label=\"Training score\")\n",
    "plt.plot(train_sizes,  np.mean(valid_scores, axis=1), 'o-', color=\"g\",\n",
    "                 label=\"Cross-validation score\")\n",
    "plt.legend(loc=\"best\")\n",
    "plt.show()"
   ]
  },
  {
   "cell_type": "markdown",
   "metadata": {},
   "source": [
    "### Neural Network MLP on Metadata"
   ]
  },
  {
   "cell_type": "code",
   "execution_count": 9,
   "metadata": {},
   "outputs": [
    {
     "name": "stderr",
     "output_type": "stream",
     "text": [
      "C:\\Users\\User\\anaconda3\\lib\\site-packages\\pandas\\core\\generic.py:6662: SettingWithCopyWarning: \n",
      "A value is trying to be set on a copy of a slice from a DataFrame.\n",
      "Try using .loc[row_indexer,col_indexer] = value instead\n",
      "\n",
      "See the caveats in the documentation: https://pandas.pydata.org/pandas-docs/stable/user_guide/indexing.html#returning-a-view-versus-a-copy\n",
      "  res[c] = res[c].replace(\n"
     ]
    },
    {
     "name": "stdout",
     "output_type": "stream",
     "text": [
      "Confusion Matrix: \n",
      "[[ 5  0  7  3  0 16 14 13]\n",
      " [ 4  0 11  4  0 30 21  4]\n",
      " [ 1  1 20  1  0  8  6  7]\n",
      " [ 4  0  2 10  0 21  5  2]\n",
      " [ 1  0  9  3  0  9  5 18]\n",
      " [ 3  1  2  3  0 43  8  4]\n",
      " [ 1  0  8  3  0 29 13  1]\n",
      " [ 1  1 14  0  0  0  3 47]]\n",
      "Accuracy: 0.30666666666666664\n",
      "Precision: [0.25       0.         0.2739726  0.37037037 0.         0.27564103\n",
      " 0.17333333 0.48958333]\n",
      "Recall: [0.0862069  0.         0.45454545 0.22727273 0.         0.671875\n",
      " 0.23636364 0.71212121]\n",
      "F1: [0.12820513 0.         0.34188034 0.28169014 0.         0.39090909\n",
      " 0.2        0.58024691]\n"
     ]
    },
    {
     "name": "stderr",
     "output_type": "stream",
     "text": [
      "C:\\Users\\User\\anaconda3\\lib\\site-packages\\sklearn\\metrics\\_classification.py:1221: UndefinedMetricWarning: Precision and F-score are ill-defined and being set to 0.0 in labels with no predicted samples. Use `zero_division` parameter to control this behavior.\n",
      "  _warn_prf(average, modifier, msg_start, len(result))\n"
     ]
    }
   ],
   "source": [
    "# Preprocess Metadata Feature\n",
    "meta_train_features, meta_train_labels, meta_valid_features, meta_valid_labels, meta_test_features = meta_pre_process()\n",
    "\n",
    "\n",
    "# Train MLP Classifier\n",
    "mlp = train_mlp(meta_train_features, meta_train_labels)\n",
    "\n",
    "# Predict validation labels\n",
    "mlp_valid_predicted_labels = predict_mlp(mlp, meta_valid_features)\n",
    "\n",
    "\n",
    "# Evaluation of NN MLP\n",
    "cm, acc, precf1 = evaluate(meta_valid_labels, mlp_valid_predicted_labels)\n",
    "print(\"Confusion Matrix: \\n{}\\nAccuracy: {}\\nPrecision: {}\\nRecall: {}\\nF1: {}\".format(cm, acc, precf1[0], precf1[1], precf1[2]))"
   ]
  },
  {
   "cell_type": "code",
   "execution_count": 10,
   "metadata": {},
   "outputs": [
    {
     "data": {
      "text/plain": [
       "0.3472258400625163"
      ]
     },
     "execution_count": 10,
     "metadata": {},
     "output_type": "execute_result"
    }
   ],
   "source": [
    "# Get accuracy for MLP on training data for evaluation\n",
    "mlp.score(meta_train_features,meta_train_labels)"
   ]
  },
  {
   "cell_type": "code",
   "execution_count": 16,
   "metadata": {},
   "outputs": [
    {
     "data": {
      "image/png": "[encoded data removed]",
      "text/plain": [
       "<Figure size 432x288 with 1 Axes>"
      ]
     },
     "metadata": {
      "needs_background": "light"
     },
     "output_type": "display_data"
    }
   ],
   "source": [
    "# Learning Curve for Neural Network MLP Classifier on Metadata Features\n",
    "estimator = mlp\n",
    "train_sizes, train_scores, valid_scores= \\\n",
    "        learning_curve(estimator, meta_train_features, meta_train_labels.values.ravel(), scoring='accuracy',cv=StratifiedKFold(10),\n",
    "                       train_sizes=np.linspace(.1, 1.0, 5))\n",
    "plt.figure()\n",
    "plt.xlabel(\"training size\")\n",
    "plt.ylabel(\"accuracy\")\n",
    "plt.plot(train_sizes,  np.mean(train_scores, axis=1), 'o-', color=\"r\",\n",
    "                 label=\"Training score\")\n",
    "plt.plot(train_sizes,  np.mean(valid_scores, axis=1), 'o-', color=\"g\",\n",
    "                 label=\"Cross-validation score\")\n",
    "plt.legend(loc=\"best\")\n",
    "plt.show()"
   ]
  },
  {
   "cell_type": "markdown",
   "metadata": {},
   "source": [
    "### Gaussian NB on Meta Data"
   ]
  },
  {
   "cell_type": "code",
   "execution_count": 11,
   "metadata": {},
   "outputs": [
    {
     "name": "stdout",
     "output_type": "stream",
     "text": [
      "Confusion Matrix: \n",
      "[[ 4  3 13  0  1  5 21 11]\n",
      " [ 5  4  9  0  0  8 47  1]\n",
      " [ 1  3 19  0  0  6 12  3]\n",
      " [ 7  2  1  0  1 17 16  0]\n",
      " [ 4  4 10  0  0  7  9 11]\n",
      " [ 2  0  3  0  0 32 25  2]\n",
      " [ 1  0  8  0  0 14 31  1]\n",
      " [ 0 12 16  0  0  0  7 31]]\n",
      "Accuracy: 0.2688888888888889\n",
      "Precision: [0.16666667 0.14285714 0.24050633 0.         0.         0.35955056\n",
      " 0.18452381 0.51666667]\n",
      "Recall: [0.06896552 0.05405405 0.43181818 0.         0.         0.5\n",
      " 0.56363636 0.46969697]\n",
      "F1: [0.09756098 0.07843137 0.30894309 0.         0.         0.41830065\n",
      " 0.27802691 0.49206349]\n"
     ]
    },
    {
     "name": "stderr",
     "output_type": "stream",
     "text": [
      "C:\\Users\\User\\anaconda3\\lib\\site-packages\\pandas\\core\\generic.py:6662: SettingWithCopyWarning: \n",
      "A value is trying to be set on a copy of a slice from a DataFrame.\n",
      "Try using .loc[row_indexer,col_indexer] = value instead\n",
      "\n",
      "See the caveats in the documentation: https://pandas.pydata.org/pandas-docs/stable/user_guide/indexing.html#returning-a-view-versus-a-copy\n",
      "  res[c] = res[c].replace(\n",
      "C:\\Users\\User\\anaconda3\\lib\\site-packages\\sklearn\\metrics\\_classification.py:1221: UndefinedMetricWarning: Precision and F-score are ill-defined and being set to 0.0 in labels with no predicted samples. Use `zero_division` parameter to control this behavior.\n",
      "  _warn_prf(average, modifier, msg_start, len(result))\n"
     ]
    }
   ],
   "source": [
    "# Preprocess Metadata Feature\n",
    "meta_train_features, meta_train_labels, meta_valid_features, meta_valid_labels, meta_test_features = meta_pre_process()\n",
    "\n",
    "\n",
    "# Create classifier\n",
    "gnb = train_gnb(meta_train_features, meta_train_labels)\n",
    "\n",
    "# Get predictions (For validation Data)\n",
    "gnb_valid_predicted_labels = predict_gnb(gnb, meta_valid_features)\n",
    "\n",
    "# Evaluation of gnb (for validation data)\n",
    "cm, acc, precf1 = evaluate(meta_valid_labels, gnb_valid_predicted_labels)\n",
    "print(\"Confusion Matrix: \\n{}\\nAccuracy: {}\\nPrecision: {}\\nRecall: {}\\nF1: {}\".format(cm, acc, precf1[0], precf1[1], precf1[2]))\n",
    "\n",
    "\n",
    "# GNB classifier and output to CSV for kaggle\n",
    "# gnb_meta_test_df = pd.DataFrame({\"trackID\" : test_features['trackID'], \"genre\" : gnb.predict(meta_test_features)})\n",
    "\n",
    "# Replace genre codes back to labels\n",
    "# gnb_meta_test_df.replace(genre_code_labels, inplace = True)\n",
    "\n",
    "# gnb_meta_test_df\n",
    "\n",
    "# Output to CSV for kaggle\n",
    "# gnb_meta_test_df.to_csv(r'gnb_meta_test_0610.csv', index = False, header = True)"
   ]
  },
  {
   "cell_type": "code",
   "execution_count": 12,
   "metadata": {},
   "outputs": [
    {
     "data": {
      "text/plain": [
       "0.3586871581140922"
      ]
     },
     "execution_count": 12,
     "metadata": {},
     "output_type": "execute_result"
    }
   ],
   "source": [
    "# Get accuracy for MLP on training data for evaluation\n",
    "gnb.score(meta_train_features,meta_train_labels)"
   ]
  },
  {
   "cell_type": "code",
   "execution_count": 30,
   "metadata": {},
   "outputs": [
    {
     "data": {
      "image/png": "[encoded data removed]",
      "text/plain": [
       "<Figure size 432x288 with 1 Axes>"
      ]
     },
     "metadata": {
      "needs_background": "light"
     },
     "output_type": "display_data"
    }
   ],
   "source": [
    "# Learning Curve for Gaussian NB Classifier on Metadata Features\n",
    "estimator = gnb\n",
    "train_sizes, train_scores, valid_scores= \\\n",
    "        learning_curve(estimator, meta_train_features, meta_train_labels.values.ravel(), scoring='accuracy',cv=StratifiedKFold(10),\n",
    "                       train_sizes=np.linspace(.1, 1.0, 5))\n",
    "plt.figure()\n",
    "plt.xlabel(\"training size\")\n",
    "plt.ylabel(\"accuracy\")\n",
    "plt.plot(train_sizes,  np.mean(train_scores, axis=1), 'o-', color=\"r\",\n",
    "                 label=\"Training score\")\n",
    "plt.plot(train_sizes,  np.mean(valid_scores, axis=1), 'o-', color=\"g\",\n",
    "                 label=\"Cross-validation score\")\n",
    "plt.legend(loc=\"best\")\n",
    "plt.show()"
   ]
  },
  {
   "cell_type": "markdown",
   "metadata": {},
   "source": [
    "# Audio Features Model"
   ]
  },
  {
   "cell_type": "code",
   "execution_count": 14,
   "metadata": {},
   "outputs": [
    {
     "name": "stderr",
     "output_type": "stream",
     "text": [
      "C:\\Users\\User\\anaconda3\\lib\\site-packages\\pandas\\core\\generic.py:6662: SettingWithCopyWarning: \n",
      "A value is trying to be set on a copy of a slice from a DataFrame.\n",
      "Try using .loc[row_indexer,col_indexer] = value instead\n",
      "\n",
      "See the caveats in the documentation: https://pandas.pydata.org/pandas-docs/stable/user_guide/indexing.html#returning-a-view-versus-a-copy\n",
      "  res[c] = res[c].replace(\n"
     ]
    }
   ],
   "source": [
    "# Preprocessing data for audio features\n",
    "\n",
    "def audio_pre_process():\n",
    "\n",
    "    # Audio training data Features w Labels\n",
    "    audio_train_features = train_features.iloc[:,9:]\n",
    "\n",
    "    audio_train_labels = train_labels[['genre']]\n",
    "    audio_train_labels.replace(genre_labels, inplace = True)\n",
    "\n",
    "    # Audio validation data features and labels\n",
    "    audio_valid_features = valid_features.iloc[:,9:]\n",
    "\n",
    "    audio_valid_labels = valid_labels[['genre']]\n",
    "    audio_valid_labels.replace(genre_labels, inplace = True)\n",
    "\n",
    "    # Audio test features\n",
    "    audio_test_features = test_features.iloc[:,9:]\n",
    "    \n",
    "    return audio_train_features, audio_train_labels, audio_valid_features, audio_valid_labels, audio_test_features\n",
    "\n",
    "audio_train_features, audio_train_labels, audio_valid_features, audio_valid_labels, audio_test_features = audio_pre_process()\n"
   ]
  },
  {
   "cell_type": "markdown",
   "metadata": {},
   "source": [
    "### Zero-R/ Most-frequent Baseline"
   ]
  },
  {
   "cell_type": "code",
   "execution_count": 40,
   "metadata": {},
   "outputs": [
    {
     "name": "stdout",
     "output_type": "stream",
     "text": [
      "Confusion Matrix: \n",
      "[[ 0  0  0  0  0  0 58  0]\n",
      " [ 0  0  0  0  0  0 74  0]\n",
      " [ 0  0  0  0  0  0 44  0]\n",
      " [ 0  0  0  0  0  0 44  0]\n",
      " [ 0  0  0  0  0  0 45  0]\n",
      " [ 0  0  0  0  0  0 64  0]\n",
      " [ 0  0  0  0  0  0 55  0]\n",
      " [ 0  0  0  0  0  0 66  0]]\n",
      "Accuracy: 0.12222222222222222\n",
      "Precision: [0.         0.         0.         0.         0.         0.\n",
      " 0.12222222 0.        ]\n",
      "Recall: [0. 0. 0. 0. 0. 0. 1. 0.]\n",
      "F1: [0.         0.         0.         0.         0.         0.\n",
      " 0.21782178 0.        ]\n"
     ]
    },
    {
     "name": "stderr",
     "output_type": "stream",
     "text": [
      "C:\\Users\\User\\anaconda3\\lib\\site-packages\\sklearn\\metrics\\_classification.py:1221: UndefinedMetricWarning: Precision and F-score are ill-defined and being set to 0.0 in labels with no predicted samples. Use `zero_division` parameter to control this behavior.\n",
      "  _warn_prf(average, modifier, msg_start, len(result))\n"
     ]
    }
   ],
   "source": [
    "# Preprocess Audio Feature\n",
    "audio_train_features, audio_train_labels, audio_valid_features, audio_valid_labels, audio_test_features = audio_pre_process()\n",
    "\n",
    "dummy = DummyClassifier(strategy=\"most_frequent\")\n",
    "\n",
    "# Fit training data\n",
    "dummy.fit(audio_train_features, audio_train_labels)\n",
    "\n",
    "# Test model on validation data\n",
    "dummy.score(audio_valid_features, audio_valid_labels)\n",
    "\n",
    "audio_predicted_valid_labels = dummy.predict(audio_valid_features)\n",
    "\n",
    "# evaluation of valid\n",
    "cm, acc, precf1 = evaluate(audio_valid_labels, audio_predicted_valid_labels)\n",
    "print(\"Confusion Matrix: \\n{}\\nAccuracy: {}\\nPrecision: {}\\nRecall: {}\\nF1: {}\".format\n",
    "      (cm, acc, precf1[0], precf1[1], precf1[2]))"
   ]
  },
  {
   "cell_type": "markdown",
   "metadata": {},
   "source": [
    "### Neural Network MLP for Audio Features"
   ]
  },
  {
   "cell_type": "code",
   "execution_count": 15,
   "metadata": {},
   "outputs": [
    {
     "name": "stdout",
     "output_type": "stream",
     "text": [
      "Confusion Matrix: \n",
      "[[ 5 16  2  0  3 28  4  0]\n",
      " [ 0 24  0  0  0 47  3  0]\n",
      " [ 0  4 28  0  0  7  0  5]\n",
      " [ 0  2  3  0  0 36  2  1]\n",
      " [ 0 12  5  1  9 13  5  0]\n",
      " [ 0  8  1  0  0 52  3  0]\n",
      " [ 1  7  4  0  0 40  3  0]\n",
      " [ 0  0 40  0  2  3  1 20]]\n",
      "Accuracy: 0.31333333333333335\n",
      "Precision: [0.83333333 0.32876712 0.3373494  0.         0.64285714 0.2300885\n",
      " 0.14285714 0.76923077]\n",
      "Recall: [0.0862069  0.32432432 0.63636364 0.         0.2        0.8125\n",
      " 0.05454545 0.3030303 ]\n",
      "F1: [0.15625    0.32653061 0.44094488 0.         0.30508475 0.35862069\n",
      " 0.07894737 0.43478261]\n"
     ]
    }
   ],
   "source": [
    "# Preprocess Audio Feature\n",
    "audio_train_features, audio_train_labels, audio_valid_features, audio_valid_labels, audio_test_features = audio_pre_process()\n",
    "\n",
    "\n",
    "# Train MLP Classifier\n",
    "mlp = train_mlp(audio_train_features, audio_train_labels)\n",
    "\n",
    "# Predict validation labels\n",
    "mlp_valid_predicted_labels = predict_mlp(mlp, audio_valid_features)\n",
    "\n",
    "\n",
    "# Evaluation of NN MLP\n",
    "cm, acc, precf1 = evaluate(audio_valid_labels, mlp_valid_predicted_labels)\n",
    "print(\"Confusion Matrix: \\n{}\\nAccuracy: {}\\nPrecision: {}\\nRecall: {}\\nF1: {}\".format(cm, acc, precf1[0], precf1[1], precf1[2]))"
   ]
  },
  {
   "cell_type": "code",
   "execution_count": 17,
   "metadata": {},
   "outputs": [
    {
     "data": {
      "text/plain": [
       "0.44868455326908047"
      ]
     },
     "execution_count": 17,
     "metadata": {},
     "output_type": "execute_result"
    }
   ],
   "source": [
    "# Get accuracy for MLP on training data for evaluation\n",
    "mlp.score(audio_train_features,audio_train_labels)"
   ]
  },
  {
   "cell_type": "code",
   "execution_count": 133,
   "metadata": {},
   "outputs": [
    {
     "data": {
      "image/png": "[encoded data removed]",
      "text/plain": [
       "<Figure size 432x288 with 1 Axes>"
      ]
     },
     "metadata": {
      "needs_background": "light"
     },
     "output_type": "display_data"
    }
   ],
   "source": [
    "# Learning Curve for Neural Network MLP Classifier on Audio Features\n",
    "estimator = mlp\n",
    "train_sizes, train_scores, valid_scores= \\\n",
    "        learning_curve(estimator, audio_train_features, audio_train_labels.values.ravel(), scoring='accuracy',cv=StratifiedKFold(10),\n",
    "                       train_sizes=np.linspace(.1, 1.0, 5))\n",
    "plt.figure()\n",
    "plt.xlabel(\"training size\")\n",
    "plt.ylabel(\"accuracy\")\n",
    "plt.plot(train_sizes,  np.mean(train_scores, axis=1), 'o-', color=\"r\",\n",
    "                 label=\"Training score\")\n",
    "plt.plot(train_sizes,  np.mean(valid_scores, axis=1), 'o-', color=\"g\",\n",
    "                 label=\"Cross-validation score\")\n",
    "plt.legend(loc=\"best\")\n",
    "plt.show()"
   ]
  },
  {
   "cell_type": "markdown",
   "metadata": {},
   "source": [
    "### GNB Model for Audio Features"
   ]
  },
  {
   "cell_type": "code",
   "execution_count": 18,
   "metadata": {},
   "outputs": [
    {
     "name": "stdout",
     "output_type": "stream",
     "text": [
      "Confusion Matrix: \n",
      "[[41  5  0  4  6  1  1  0]\n",
      " [ 2 41  0  6  0 16  9  0]\n",
      " [ 0  6 13  1  0  4  6 14]\n",
      " [ 6  4  1 13  2 12  4  2]\n",
      " [ 5  7  4  5 10  6  6  2]\n",
      " [ 5 13  0  3  0 25 18  0]\n",
      " [ 2  9  0  5  1 13 25  0]\n",
      " [ 0  2 10  0  1  0  0 53]]\n",
      "Accuracy: 0.4911111111111111\n",
      "Precision: [0.67213115 0.47126437 0.46428571 0.35135135 0.5        0.32467532\n",
      " 0.36231884 0.74647887]\n",
      "Recall: [0.70689655 0.55405405 0.29545455 0.29545455 0.22222222 0.390625\n",
      " 0.45454545 0.8030303 ]\n",
      "F1: [0.68907563 0.50931677 0.36111111 0.32098765 0.30769231 0.35460993\n",
      " 0.40322581 0.77372263]\n"
     ]
    },
    {
     "name": "stderr",
     "output_type": "stream",
     "text": [
      "C:\\Users\\User\\anaconda3\\lib\\site-packages\\pandas\\core\\generic.py:6662: SettingWithCopyWarning: \n",
      "A value is trying to be set on a copy of a slice from a DataFrame.\n",
      "Try using .loc[row_indexer,col_indexer] = value instead\n",
      "\n",
      "See the caveats in the documentation: https://pandas.pydata.org/pandas-docs/stable/user_guide/indexing.html#returning-a-view-versus-a-copy\n",
      "  res[c] = res[c].replace(\n"
     ]
    }
   ],
   "source": [
    "# Preprocess Audio Feature\n",
    "audio_train_features, audio_train_labels, audio_valid_features, audio_valid_labels, audio_test_features = audio_pre_process()\n",
    "\n",
    "# Create classifier\n",
    "gnb = train_gnb(audio_train_features, audio_train_labels)\n",
    "\n",
    "\n",
    "# Get predictions (For validation Data)\n",
    "gnb_valid_predicted_labels = predict_gnb(gnb, audio_valid_features)\n",
    "\n",
    "# Evaluation of gnb (for validation data)\n",
    "cm, acc, precf1 = evaluate(audio_valid_labels, gnb_valid_predicted_labels)\n",
    "print(\"Confusion Matrix: \\n{}\\nAccuracy: {}\\nPrecision: {}\\nRecall: {}\\nF1: {}\".format(cm, acc, precf1[0], precf1[1], precf1[2]))\n",
    "\n",
    "\n",
    "# GNB classifier and output to CSV for kaggle\n",
    "\n",
    "# gnb_audio_test_df = pd.DataFrame({\"trackID\" : test_features['trackID'], \"genre\" : gnb.predict(audio_test_features)})\n",
    "\n",
    "# Replace genre codes back to labels\n",
    "# gnb_audio_test_df.replace(genre_code_labels, inplace = True)\n",
    "\n",
    "\n",
    "# Output to CSV for kaggle\n",
    "# gnb_audio_test_df.to_csv(r'gnb_audio_test_0610.csv', index = False, header = True)"
   ]
  },
  {
   "cell_type": "code",
   "execution_count": 19,
   "metadata": {},
   "outputs": [
    {
     "data": {
      "text/plain": [
       "0.41885907788486587"
      ]
     },
     "execution_count": 19,
     "metadata": {},
     "output_type": "execute_result"
    }
   ],
   "source": [
    "# Get accuracy for GNB on training data for evaluation\n",
    "gnb.score(audio_train_features,audio_train_labels)"
   ]
  },
  {
   "cell_type": "code",
   "execution_count": 137,
   "metadata": {},
   "outputs": [
    {
     "data": {
      "image/png": "[encoded data removed]",
      "text/plain": [
       "<Figure size 432x288 with 1 Axes>"
      ]
     },
     "metadata": {
      "needs_background": "light"
     },
     "output_type": "display_data"
    }
   ],
   "source": [
    "# Learning Curve for Gaussian NB Classifier on Audio Features\n",
    "estimator = gnb\n",
    "train_sizes, train_scores, valid_scores= \\\n",
    "        learning_curve(estimator, audio_train_features, audio_train_labels.values.ravel(), scoring='accuracy',cv=StratifiedKFold(10),\n",
    "                       train_sizes=np.linspace(.1, 1.0, 5))\n",
    "plt.figure()\n",
    "plt.xlabel(\"training size\")\n",
    "plt.ylabel(\"accuracy\")\n",
    "plt.plot(train_sizes,  np.mean(train_scores, axis=1), 'o-', color=\"r\",\n",
    "                 label=\"Training score\")\n",
    "plt.plot(train_sizes,  np.mean(valid_scores, axis=1), 'o-', color=\"g\",\n",
    "                 label=\"Cross-validation score\")\n",
    "plt.legend(loc=\"best\")\n",
    "plt.show()"
   ]
  },
  {
   "cell_type": "markdown",
   "metadata": {},
   "source": [
    "### Decision tree model for Audio Features"
   ]
  },
  {
   "cell_type": "code",
   "execution_count": 20,
   "metadata": {},
   "outputs": [
    {
     "name": "stderr",
     "output_type": "stream",
     "text": [
      "C:\\Users\\User\\anaconda3\\lib\\site-packages\\pandas\\core\\generic.py:6662: SettingWithCopyWarning: \n",
      "A value is trying to be set on a copy of a slice from a DataFrame.\n",
      "Try using .loc[row_indexer,col_indexer] = value instead\n",
      "\n",
      "See the caveats in the documentation: https://pandas.pydata.org/pandas-docs/stable/user_guide/indexing.html#returning-a-view-versus-a-copy\n",
      "  res[c] = res[c].replace(\n"
     ]
    },
    {
     "name": "stdout",
     "output_type": "stream",
     "text": [
      "Confusion Matrix: \n",
      "[[30  2  0  0  5 13  7  1]\n",
      " [ 4 25  0  0  0 33 12  0]\n",
      " [ 0  4 17  0  0  3  9 11]\n",
      " [ 1  3  4  4  3 22  6  1]\n",
      " [ 6  6  6  1  4 14  3  5]\n",
      " [ 3  2  2  0  1 38 18  0]\n",
      " [ 2  2  3  3  2 22 20  1]\n",
      " [ 0  1 20  0  0  2  2 41]]\n",
      "Accuracy: 0.3977777777777778\n",
      "Precision: [0.65217391 0.55555556 0.32692308 0.5        0.26666667 0.2585034\n",
      " 0.25974026 0.68333333]\n",
      "Recall: [0.51724138 0.33783784 0.38636364 0.09090909 0.08888889 0.59375\n",
      " 0.36363636 0.62121212]\n",
      "F1: [0.57692308 0.42016807 0.35416667 0.15384615 0.13333333 0.36018957\n",
      " 0.3030303  0.65079365]\n"
     ]
    }
   ],
   "source": [
    "# Preprocess Audio Feature\n",
    "audio_train_features, audio_train_labels, audio_valid_features, audio_valid_labels, audio_test_features = audio_pre_process()\n",
    "\n",
    "# Train the decision tree model\n",
    "audio_decision_tree = train_tree(audio_train_features, audio_train_labels, 8)\n",
    "\n",
    "# # Decision tree evaluatuion for valid_features and valid_labels\n",
    "audio_decision_tree.score(audio_valid_features, audio_valid_labels)\n",
    "\n",
    "audio_predicted_valid_labels = audio_decision_tree.predict(audio_valid_features)\n",
    "\n",
    "# evaluation of valid\n",
    "cm, acc, precf1 = evaluate(audio_valid_labels, audio_predicted_valid_labels)\n",
    "print(\"Confusion Matrix: \\n{}\\nAccuracy: {}\\nPrecision: {}\\nRecall: {}\\nF1: {}\".format\n",
    "      (cm, acc, precf1[0], precf1[1], precf1[2]))\n",
    "\n",
    "\n",
    "\n",
    "# Decision tree using test features (Prediction)\n",
    "\n",
    "# tree_predict(audio_decision_tree, audio_test_features)\n",
    "# audio_test_df = pd.DataFrame({\"trackID\" : test_features['trackID'], \"genre\" : tree_predict(audio_decision_tree, audio_test_features)})\n",
    "\n",
    "\n",
    "# Replace genre codes back to labels\n",
    "# audio_test_df.replace(genre_code_labels, inplace = True)\n",
    "\n",
    "# audio_test_df\n",
    "\n",
    "# # Output to CSV for kaggle\n",
    "# audio_test_df.to_csv(r'tree_audio_test_0610.csv', index = False, header = True)\n",
    "\n",
    "# # Plot tree\n",
    "# tree.plot_tree(meta_decision_tree)\n",
    "\n"
   ]
  },
  {
   "cell_type": "code",
   "execution_count": 21,
   "metadata": {},
   "outputs": [
    {
     "data": {
      "text/plain": [
       "0.596769992185465"
      ]
     },
     "execution_count": 21,
     "metadata": {},
     "output_type": "execute_result"
    }
   ],
   "source": [
    "# Get accuracy for tree on training data for evaluation\n",
    "audio_decision_tree.score(audio_train_features,audio_train_labels)"
   ]
  },
  {
   "cell_type": "code",
   "execution_count": 45,
   "metadata": {},
   "outputs": [],
   "source": [
    "# Find Best performing max_depth\n",
    "tree_accuracy = []\n",
    "for i in range(1, 20):\n",
    "    audio_decision_tree = train_tree(audio_train_features, audio_train_labels, i)\n",
    "    tree_accuracy.append(audio_decision_tree.score(audio_valid_features, audio_valid_labels))"
   ]
  },
  {
   "cell_type": "code",
   "execution_count": 49,
   "metadata": {},
   "outputs": [
    {
     "data": {
      "text/plain": [
       "0.4"
      ]
     },
     "execution_count": 49,
     "metadata": {},
     "output_type": "execute_result"
    }
   ],
   "source": [
    "tree_accuracy.index((max(tree_accuracy)))\n",
    "max(tree_accuracy)"
   ]
  },
  {
   "cell_type": "code",
   "execution_count": 139,
   "metadata": {},
   "outputs": [
    {
     "data": {
      "image/png": "[encoded data removed]",
      "text/plain": [
       "<Figure size 432x288 with 1 Axes>"
      ]
     },
     "metadata": {
      "needs_background": "light"
     },
     "output_type": "display_data"
    }
   ],
   "source": [
    "# Learning Curve for Decision Tree Classifier on Audio Features\n",
    "estimator = audio_decision_tree\n",
    "train_sizes, train_scores, valid_scores= \\\n",
    "        learning_curve(estimator, audio_train_features, audio_train_labels.values.ravel(), scoring='accuracy',cv=StratifiedKFold(10),\n",
    "                       train_sizes=np.linspace(.1, 1.0, 5))\n",
    "plt.figure()\n",
    "plt.xlabel(\"training size\")\n",
    "plt.ylabel(\"accuracy\")\n",
    "plt.plot(train_sizes,  np.mean(train_scores, axis=1), 'o-', color=\"r\",\n",
    "                 label=\"Training score\")\n",
    "plt.plot(train_sizes,  np.mean(valid_scores, axis=1), 'o-', color=\"g\",\n",
    "                 label=\"Cross-validation score\")\n",
    "plt.legend(loc=\"best\")\n",
    "plt.show()"
   ]
  },
  {
   "cell_type": "markdown",
   "metadata": {},
   "source": [
    "## Audio & Metadata features"
   ]
  },
  {
   "cell_type": "code",
   "execution_count": 22,
   "metadata": {},
   "outputs": [
    {
     "name": "stderr",
     "output_type": "stream",
     "text": [
      "C:\\Users\\User\\anaconda3\\lib\\site-packages\\pandas\\core\\generic.py:6662: SettingWithCopyWarning: \n",
      "A value is trying to be set on a copy of a slice from a DataFrame.\n",
      "Try using .loc[row_indexer,col_indexer] = value instead\n",
      "\n",
      "See the caveats in the documentation: https://pandas.pydata.org/pandas-docs/stable/user_guide/indexing.html#returning-a-view-versus-a-copy\n",
      "  res[c] = res[c].replace(\n"
     ]
    }
   ],
   "source": [
    "# Pre Process Metadata and Audio Features\n",
    "def meta_audio_pre_process():\n",
    "    \n",
    "    # Preprocessing data for audio and metadata features\n",
    "    train_features, train_labels, valid_features, valid_labels, test_features = pre_process()\n",
    "\n",
    "    # get training features\n",
    "    meta_audio_train_features = train_features.copy()\n",
    "    meta_audio_train_features.drop(['trackID', 'title', 'tags'], axis=1, inplace=True)\n",
    "    meta_audio_train_features\n",
    "\n",
    "    # get training labels\n",
    "    meta_audio_train_labels = train_labels[['genre']]\n",
    "    meta_audio_train_labels.replace(genre_labels, inplace = True)\n",
    "\n",
    "    # get valid features\n",
    "    meta_audio_valid_features = valid_features.copy()\n",
    "    meta_audio_valid_features.drop(['trackID', 'title', 'tags'], axis=1, inplace=True)\n",
    "    meta_audio_valid_features\n",
    "\n",
    "    # get valid labels\n",
    "    meta_audio_valid_labels = valid_labels[['genre']]\n",
    "    meta_audio_valid_labels.replace(genre_labels, inplace = True)\n",
    "\n",
    "    # Audio test features\n",
    "    meta_audio_test_features = test_features.copy()\n",
    "    meta_audio_test_features.drop(['trackID', 'title', 'tags'], axis=1, inplace=True)\n",
    "    \n",
    "    return meta_audio_train_features, meta_audio_train_labels, meta_audio_valid_features, meta_audio_valid_labels, meta_audio_test_features\n",
    "\n",
    "meta_audio_train_features, meta_audio_train_labels, meta_audio_valid_features, meta_audio_valid_labels, meta_audio_test_features = meta_audio_pre_process()\n",
    "\n",
    "\n",
    "\n",
    "    \n"
   ]
  },
  {
   "cell_type": "markdown",
   "metadata": {},
   "source": [
    "### Zero-R/ Most Frequent baseline for Audio and Metadata features"
   ]
  },
  {
   "cell_type": "code",
   "execution_count": 68,
   "metadata": {},
   "outputs": [
    {
     "name": "stdout",
     "output_type": "stream",
     "text": [
      "Confusion Matrix: \n",
      "[[ 0  0  0  0  0  0 58  0]\n",
      " [ 0  0  0  0  0  0 74  0]\n",
      " [ 0  0  0  0  0  0 44  0]\n",
      " [ 0  0  0  0  0  0 44  0]\n",
      " [ 0  0  0  0  0  0 45  0]\n",
      " [ 0  0  0  0  0  0 64  0]\n",
      " [ 0  0  0  0  0  0 55  0]\n",
      " [ 0  0  0  0  0  0 66  0]]\n",
      "Accuracy: 0.12222222222222222\n",
      "Precision: [0.         0.         0.         0.         0.         0.\n",
      " 0.12222222 0.        ]\n",
      "Recall: [0. 0. 0. 0. 0. 0. 1. 0.]\n",
      "F1: [0.         0.         0.         0.         0.         0.\n",
      " 0.21782178 0.        ]\n"
     ]
    },
    {
     "name": "stderr",
     "output_type": "stream",
     "text": [
      "C:\\Users\\User\\anaconda3\\lib\\site-packages\\sklearn\\metrics\\_classification.py:1221: UndefinedMetricWarning: Precision and F-score are ill-defined and being set to 0.0 in labels with no predicted samples. Use `zero_division` parameter to control this behavior.\n",
      "  _warn_prf(average, modifier, msg_start, len(result))\n"
     ]
    }
   ],
   "source": [
    "\n",
    "# Preprocess Metadata and Audio Features\n",
    "meta_audio_train_features, meta_audio_train_labels, meta_audio_valid_features, meta_audio_valid_labels, meta_audio_test_features = meta_audio_pre_process()\n",
    "\n",
    "dummy = DummyClassifier(strategy=\"most_frequent\")\n",
    "\n",
    "# Fit training data\n",
    "dummy.fit(meta_audio_train_features, meta_audio_train_labels)\n",
    "\n",
    "# Test model on validation data\n",
    "dummy.score(meta_audio_valid_features, meta_audio_valid_labels)\n",
    "\n",
    "meta_audio_predicted_valid_labels = dummy.predict(meta_audio_valid_features)\n",
    "\n",
    "# evaluation of valid\n",
    "cm, acc, precf1 = evaluate(meta_audio_valid_labels, meta_audio_predicted_valid_labels)\n",
    "print(\"Confusion Matrix: \\n{}\\nAccuracy: {}\\nPrecision: {}\\nRecall: {}\\nF1: {}\".format\n",
    "      (cm, acc, precf1[0], precf1[1], precf1[2]))"
   ]
  },
  {
   "cell_type": "markdown",
   "metadata": {},
   "source": [
    "### GNB On Audio & Metadata Features"
   ]
  },
  {
   "cell_type": "code",
   "execution_count": 23,
   "metadata": {},
   "outputs": [
    {
     "name": "stdout",
     "output_type": "stream",
     "text": [
      "Confusion Matrix: \n",
      "[[41  4  0  4  6  1  2  0]\n",
      " [ 2 41  0  5  0 17  9  0]\n",
      " [ 0  7 16  1  0  4  5 11]\n",
      " [ 6  6  1 13  2 11  3  2]\n",
      " [ 4  6  4  5 12  7  4  3]\n",
      " [ 5 13  0  3  0 25 18  0]\n",
      " [ 2 10  0  5  1 13 24  0]\n",
      " [ 0  1  7  0  1  0  1 56]]\n",
      "Accuracy: 0.5066666666666667\n",
      "Precision: [0.68333333 0.46590909 0.57142857 0.36111111 0.54545455 0.32051282\n",
      " 0.36363636 0.77777778]\n",
      "Recall: [0.70689655 0.55405405 0.36363636 0.29545455 0.26666667 0.390625\n",
      " 0.43636364 0.84848485]\n",
      "F1: [0.69491525 0.50617284 0.44444444 0.325      0.35820896 0.35211268\n",
      " 0.39669421 0.8115942 ]\n"
     ]
    }
   ],
   "source": [
    "# Preprocess Metadata and Audio Features\n",
    "meta_audio_train_features, meta_audio_train_labels, meta_audio_valid_features, meta_audio_valid_labels, meta_audio_test_features = meta_audio_pre_process()\n",
    "\n",
    "# Create classifier\n",
    "gnb = train_gnb(meta_audio_train_features, meta_audio_train_labels)\n",
    "\n",
    "# Get predictions (For validation Data)\n",
    "\n",
    "gnb_valid_predicted_labels = predict_gnb(gnb, meta_audio_valid_features)\n",
    "\n",
    "\n",
    "# Evaluation of gnb (for validation data)\n",
    "cm, acc, precf1 = evaluate(meta_audio_valid_labels, gnb_valid_predicted_labels)\n",
    "print(\"Confusion Matrix: \\n{}\\nAccuracy: {}\\nPrecision: {}\\nRecall: {}\\nF1: {}\".format(cm, acc, precf1[0], precf1[1], precf1[2]))\n",
    "\n",
    "\n",
    "# GNB classifier and output to CSV for kaggle\n",
    "\n",
    "# gnb_meta_audio_test_df = pd.DataFrame({\"trackID\" : test_features['trackID'], \"genre\" : gnb.predict(meta_audio_test_features)})\n",
    "\n",
    "# Replace genre codes back to labels\n",
    "# gnb_meta_audio_test_df.replace(genre_code_labels, inplace = True)\n",
    "\n",
    "\n",
    "# Output to CSV for kaggle\n",
    "# gnb_meta_audio_test_df.to_csv(r'gnb_meta_audio_test_0610.csv', index = False, header = True)"
   ]
  },
  {
   "cell_type": "code",
   "execution_count": 24,
   "metadata": {},
   "outputs": [
    {
     "data": {
      "text/plain": [
       "0.4368325084657463"
      ]
     },
     "execution_count": 24,
     "metadata": {},
     "output_type": "execute_result"
    }
   ],
   "source": [
    "# Get accuracy for gnb on training data for evaluation\n",
    "gnb.score(meta_audio_train_features,meta_audio_train_labels)"
   ]
  },
  {
   "cell_type": "code",
   "execution_count": 144,
   "metadata": {},
   "outputs": [
    {
     "data": {
      "image/png": "[encoded data removed]",
      "text/plain": [
       "<Figure size 432x288 with 1 Axes>"
      ]
     },
     "metadata": {
      "needs_background": "light"
     },
     "output_type": "display_data"
    }
   ],
   "source": [
    "\n",
    "# Learning Curve for Gaussian NB Classifier on Metadata and Audio Features\n",
    "estimator = gnb\n",
    "train_sizes, train_scores, valid_scores= \\\n",
    "        learning_curve(estimator, meta_audio_train_features, meta_audio_train_labels.values.ravel(), scoring='accuracy',cv=StratifiedKFold(10),\n",
    "                       train_sizes=np.linspace(.1, 1.0, 5))\n",
    "plt.figure()\n",
    "plt.xlabel(\"training size\")\n",
    "plt.ylabel(\"accuracy\")\n",
    "plt.plot(train_sizes,  np.mean(train_scores, axis=1), 'o-', color=\"r\",\n",
    "                 label=\"Training score\")\n",
    "plt.plot(train_sizes,  np.mean(valid_scores, axis=1), 'o-', color=\"g\",\n",
    "                 label=\"Cross-validation score\")\n",
    "plt.legend(loc=\"best\")\n",
    "plt.show()"
   ]
  },
  {
   "cell_type": "code",
   "execution_count": null,
   "metadata": {},
   "outputs": [],
   "source": []
  },
  {
   "cell_type": "markdown",
   "metadata": {},
   "source": [
    "### Decision Tree on Audio & Metadata features"
   ]
  },
  {
   "cell_type": "code",
   "execution_count": 25,
   "metadata": {},
   "outputs": [
    {
     "name": "stderr",
     "output_type": "stream",
     "text": [
      "C:\\Users\\User\\anaconda3\\lib\\site-packages\\pandas\\core\\generic.py:6662: SettingWithCopyWarning: \n",
      "A value is trying to be set on a copy of a slice from a DataFrame.\n",
      "Try using .loc[row_indexer,col_indexer] = value instead\n",
      "\n",
      "See the caveats in the documentation: https://pandas.pydata.org/pandas-docs/stable/user_guide/indexing.html#returning-a-view-versus-a-copy\n",
      "  res[c] = res[c].replace(\n"
     ]
    },
    {
     "name": "stdout",
     "output_type": "stream",
     "text": [
      "Confusion Matrix: \n",
      "[[51  0  0  0  0  6  0  1]\n",
      " [ 6  0  0  0  0 67  0  1]\n",
      " [ 2  0  0  0  0 18  0 24]\n",
      " [15  0  0  0  0 27  0  2]\n",
      " [27  0  0  0  0 15  0  3]\n",
      " [16  0  0  0  0 45  0  3]\n",
      " [18  0  0  0  0 34  0  3]\n",
      " [ 2  0  0  0  0 10  0 54]]\n",
      "Accuracy: 0.3333333333333333\n",
      "Precision: [0.37226277 0.         0.         0.         0.         0.2027027\n",
      " 0.         0.59340659]\n",
      "Recall: [0.87931034 0.         0.         0.         0.         0.703125\n",
      " 0.         0.81818182]\n",
      "F1: [0.52307692 0.         0.         0.         0.         0.31468531\n",
      " 0.         0.68789809]\n"
     ]
    },
    {
     "name": "stderr",
     "output_type": "stream",
     "text": [
      "C:\\Users\\User\\anaconda3\\lib\\site-packages\\sklearn\\metrics\\_classification.py:1221: UndefinedMetricWarning: Precision and F-score are ill-defined and being set to 0.0 in labels with no predicted samples. Use `zero_division` parameter to control this behavior.\n",
      "  _warn_prf(average, modifier, msg_start, len(result))\n"
     ]
    }
   ],
   "source": [
    "# Preprocess Metadata and Audio Features\n",
    "meta_audio_train_features, meta_audio_train_labels, meta_audio_valid_features, meta_audio_valid_labels, meta_audio_test_features = meta_audio_pre_process()\n",
    "\n",
    "# Train the decision tree model\n",
    "meta_audio_decision_tree = train_tree(meta_audio_train_features, meta_audio_train_labels, 2)\n",
    "\n",
    "# # Decision tree evaluatuion for valid_features and valid_labels\n",
    "meta_audio_decision_tree.score(meta_audio_valid_features, meta_audio_valid_labels)\n",
    "\n",
    "meta_audio_predicted_valid_labels = meta_audio_decision_tree.predict(meta_audio_valid_features)\n",
    "\n",
    "\n",
    "# evaluation of valid\n",
    "cm, acc, precf1 = evaluate(meta_audio_valid_labels, meta_audio_predicted_valid_labels)\n",
    "print(\"Confusion Matrix: \\n{}\\nAccuracy: {}\\nPrecision: {}\\nRecall: {}\\nF1: {}\".format\n",
    "      (cm, acc, precf1[0], precf1[1], precf1[2]))\n",
    "\n",
    "\n",
    "# Decision tree using test dataset features (Prediction)\n",
    "\n",
    "# tree_predict(meta_audio_decision_tree, meta_audio_test_features)\n",
    "\n",
    "# meta_audio_test_df = pd.DataFrame({\"trackID\" : test_features['trackID'], \"genre\" : tree_predict(meta_audio_decision_tree, meta_audio_test_features)})\n",
    "\n",
    "\n",
    "# Replace genre codes back to labels\n",
    "# meta_audio_test_df.replace(genre_code_labels, inplace = True)\n",
    "\n",
    "# meta_audio_test_df\n",
    "\n",
    "# # Output to CSV for kaggle\n",
    "# meta_audio_test_df.to_csv(r'tree_meta_audio_test_0610.csv', index = False, header = True)\n",
    "\n",
    "# # Plot tree\n",
    "# tree.plot_tree(meta_decision_tree)"
   ]
  },
  {
   "cell_type": "code",
   "execution_count": 26,
   "metadata": {},
   "outputs": [
    {
     "data": {
      "text/plain": [
       "0.36910653816097944"
      ]
     },
     "execution_count": 26,
     "metadata": {},
     "output_type": "execute_result"
    }
   ],
   "source": [
    "# Get accuracy for tree on training data for evaluation\n",
    "meta_audio_decision_tree.score(meta_audio_train_features,meta_audio_train_labels)"
   ]
  },
  {
   "cell_type": "code",
   "execution_count": 146,
   "metadata": {},
   "outputs": [
    {
     "data": {
      "image/png": "[encoded data removed]",
      "text/plain": [
       "<Figure size 432x288 with 1 Axes>"
      ]
     },
     "metadata": {
      "needs_background": "light"
     },
     "output_type": "display_data"
    }
   ],
   "source": [
    "# Learning Curve for Decision Tree Classifier on Metadata and Audio Features\n",
    "estimator = meta_audio_decision_tree\n",
    "train_sizes, train_scores, valid_scores= \\\n",
    "        learning_curve(estimator, meta_audio_train_features, meta_audio_train_labels.values.ravel(), scoring='accuracy',cv=StratifiedKFold(10),\n",
    "                       train_sizes=np.linspace(.1, 1.0, 5))\n",
    "plt.figure()\n",
    "plt.xlabel(\"training size\")\n",
    "plt.ylabel(\"accuracy\")\n",
    "plt.plot(train_sizes,  np.mean(train_scores, axis=1), 'o-', color=\"r\",\n",
    "                 label=\"Training score\")\n",
    "plt.plot(train_sizes,  np.mean(valid_scores, axis=1), 'o-', color=\"g\",\n",
    "                 label=\"Cross-validation score\")\n",
    "plt.legend(loc=\"best\")\n",
    "plt.show()"
   ]
  },
  {
   "cell_type": "markdown",
   "metadata": {},
   "source": [
    "### Neural Network MLP on Audio and Metadata Features"
   ]
  },
  {
   "cell_type": "code",
   "execution_count": 27,
   "metadata": {},
   "outputs": [
    {
     "name": "stderr",
     "output_type": "stream",
     "text": [
      "C:\\Users\\User\\anaconda3\\lib\\site-packages\\pandas\\core\\generic.py:6662: SettingWithCopyWarning: \n",
      "A value is trying to be set on a copy of a slice from a DataFrame.\n",
      "Try using .loc[row_indexer,col_indexer] = value instead\n",
      "\n",
      "See the caveats in the documentation: https://pandas.pydata.org/pandas-docs/stable/user_guide/indexing.html#returning-a-view-versus-a-copy\n",
      "  res[c] = res[c].replace(\n"
     ]
    },
    {
     "name": "stdout",
     "output_type": "stream",
     "text": [
      "Confusion Matrix: \n",
      "[[39  0  0  6  5  0  8  0]\n",
      " [ 8  0  0  3  1  2 60  0]\n",
      " [ 1  0 25  0  0  0 16  2]\n",
      " [10  0  1 19  3  1  9  1]\n",
      " [13  1  1  4  8  2 14  2]\n",
      " [ 3  1  0  1  2  2 55  0]\n",
      " [ 8  2  3  0  1  0 41  0]\n",
      " [ 1  1 23  0  2  0  3 36]]\n",
      "Accuracy: 0.37777777777777777\n",
      "Precision: [0.46987952 0.         0.47169811 0.57575758 0.36363636 0.28571429\n",
      " 0.19902913 0.87804878]\n",
      "Recall: [0.67241379 0.         0.56818182 0.43181818 0.17777778 0.03125\n",
      " 0.74545455 0.54545455]\n",
      "F1: [0.55319149 0.         0.51546392 0.49350649 0.23880597 0.05633803\n",
      " 0.31417625 0.6728972 ]\n"
     ]
    }
   ],
   "source": [
    "\n",
    "# Preprocessing data for audio and metadata features\n",
    "meta_audio_train_features, meta_audio_train_labels, meta_audio_valid_features, meta_audio_valid_labels, meta_audio_test_features = meta_audio_pre_process()\n",
    "\n",
    "\n",
    "# Train MLP Classifier\n",
    "mlp = train_mlp(meta_audio_train_features, meta_audio_train_labels)\n",
    "\n",
    "# Predict validation labels\n",
    "mlp_valid_predicted_labels = predict_mlp(mlp, meta_audio_valid_features)\n",
    "\n",
    "# Evaluation of NN MLP\n",
    "cm, acc, precf1 = evaluate(meta_audio_valid_labels, mlp_valid_predicted_labels)\n",
    "print(\"Confusion Matrix: \\n{}\\nAccuracy: {}\\nPrecision: {}\\nRecall: {}\\nF1: {}\".format(cm, acc, precf1[0], precf1[1], precf1[2]))"
   ]
  },
  {
   "cell_type": "code",
   "execution_count": 28,
   "metadata": {},
   "outputs": [
    {
     "data": {
      "text/plain": [
       "0.48619432143787444"
      ]
     },
     "execution_count": 28,
     "metadata": {},
     "output_type": "execute_result"
    }
   ],
   "source": [
    "# Get accuracy for MLP on training data for evaluation\n",
    "mlp.score(meta_audio_train_features,meta_audio_train_labels)"
   ]
  },
  {
   "cell_type": "code",
   "execution_count": 148,
   "metadata": {},
   "outputs": [
    {
     "data": {
      "image/png": "[encoded data removed]",
      "text/plain": [
       "<Figure size 432x288 with 1 Axes>"
      ]
     },
     "metadata": {
      "needs_background": "light"
     },
     "output_type": "display_data"
    }
   ],
   "source": [
    "# Learning Curve for Neural Network MLP Classifier on Metadata and Audio Features\n",
    "estimator = mlp\n",
    "train_sizes, train_scores, valid_scores= \\\n",
    "        learning_curve(estimator, meta_audio_train_features, meta_audio_train_labels.values.ravel(), scoring='accuracy',cv=StratifiedKFold(10),\n",
    "                       train_sizes=np.linspace(.1, 1.0, 5))\n",
    "plt.figure()\n",
    "plt.xlabel(\"training size\")\n",
    "plt.ylabel(\"accuracy\")\n",
    "plt.plot(train_sizes,  np.mean(train_scores, axis=1), 'o-', color=\"r\",\n",
    "                 label=\"Training score\")\n",
    "plt.plot(train_sizes,  np.mean(valid_scores, axis=1), 'o-', color=\"g\",\n",
    "                 label=\"Cross-validation score\")\n",
    "plt.legend(loc=\"best\")\n",
    "plt.show()"
   ]
  },
  {
   "cell_type": "code",
   "execution_count": 61,
   "metadata": {},
   "outputs": [
    {
     "name": "stderr",
     "output_type": "stream",
     "text": [
      "C:\\Users\\User\\anaconda3\\lib\\site-packages\\pandas\\core\\generic.py:6662: SettingWithCopyWarning: \n",
      "A value is trying to be set on a copy of a slice from a DataFrame.\n",
      "Try using .loc[row_indexer,col_indexer] = value instead\n",
      "\n",
      "See the caveats in the documentation: https://pandas.pydata.org/pandas-docs/stable/user_guide/indexing.html#returning-a-view-versus-a-copy\n",
      "  res[c] = res[c].replace(\n",
      "C:\\Users\\User\\anaconda3\\lib\\site-packages\\pandas\\core\\generic.py:6662: SettingWithCopyWarning: \n",
      "A value is trying to be set on a copy of a slice from a DataFrame.\n",
      "Try using .loc[row_indexer,col_indexer] = value instead\n",
      "\n",
      "See the caveats in the documentation: https://pandas.pydata.org/pandas-docs/stable/user_guide/indexing.html#returning-a-view-versus-a-copy\n",
      "  res[c] = res[c].replace(\n",
      "C:\\Users\\User\\anaconda3\\lib\\site-packages\\pandas\\core\\generic.py:6662: SettingWithCopyWarning: \n",
      "A value is trying to be set on a copy of a slice from a DataFrame.\n",
      "Try using .loc[row_indexer,col_indexer] = value instead\n",
      "\n",
      "See the caveats in the documentation: https://pandas.pydata.org/pandas-docs/stable/user_guide/indexing.html#returning-a-view-versus-a-copy\n",
      "  res[c] = res[c].replace(\n",
      "C:\\Users\\User\\anaconda3\\lib\\site-packages\\pandas\\core\\generic.py:6662: SettingWithCopyWarning: \n",
      "A value is trying to be set on a copy of a slice from a DataFrame.\n",
      "Try using .loc[row_indexer,col_indexer] = value instead\n",
      "\n",
      "See the caveats in the documentation: https://pandas.pydata.org/pandas-docs/stable/user_guide/indexing.html#returning-a-view-versus-a-copy\n",
      "  res[c] = res[c].replace(\n",
      "C:\\Users\\User\\anaconda3\\lib\\site-packages\\pandas\\core\\generic.py:6662: SettingWithCopyWarning: \n",
      "A value is trying to be set on a copy of a slice from a DataFrame.\n",
      "Try using .loc[row_indexer,col_indexer] = value instead\n",
      "\n",
      "See the caveats in the documentation: https://pandas.pydata.org/pandas-docs/stable/user_guide/indexing.html#returning-a-view-versus-a-copy\n",
      "  res[c] = res[c].replace(\n",
      "C:\\Users\\User\\anaconda3\\lib\\site-packages\\pandas\\core\\generic.py:6662: SettingWithCopyWarning: \n",
      "A value is trying to be set on a copy of a slice from a DataFrame.\n",
      "Try using .loc[row_indexer,col_indexer] = value instead\n",
      "\n",
      "See the caveats in the documentation: https://pandas.pydata.org/pandas-docs/stable/user_guide/indexing.html#returning-a-view-versus-a-copy\n",
      "  res[c] = res[c].replace(\n",
      "C:\\Users\\User\\anaconda3\\lib\\site-packages\\pandas\\core\\generic.py:6662: SettingWithCopyWarning: \n",
      "A value is trying to be set on a copy of a slice from a DataFrame.\n",
      "Try using .loc[row_indexer,col_indexer] = value instead\n",
      "\n",
      "See the caveats in the documentation: https://pandas.pydata.org/pandas-docs/stable/user_guide/indexing.html#returning-a-view-versus-a-copy\n",
      "  res[c] = res[c].replace(\n",
      "C:\\Users\\User\\anaconda3\\lib\\site-packages\\pandas\\core\\generic.py:6662: SettingWithCopyWarning: \n",
      "A value is trying to be set on a copy of a slice from a DataFrame.\n",
      "Try using .loc[row_indexer,col_indexer] = value instead\n",
      "\n",
      "See the caveats in the documentation: https://pandas.pydata.org/pandas-docs/stable/user_guide/indexing.html#returning-a-view-versus-a-copy\n",
      "  res[c] = res[c].replace(\n",
      "C:\\Users\\User\\anaconda3\\lib\\site-packages\\pandas\\core\\generic.py:6662: SettingWithCopyWarning: \n",
      "A value is trying to be set on a copy of a slice from a DataFrame.\n",
      "Try using .loc[row_indexer,col_indexer] = value instead\n",
      "\n",
      "See the caveats in the documentation: https://pandas.pydata.org/pandas-docs/stable/user_guide/indexing.html#returning-a-view-versus-a-copy\n",
      "  res[c] = res[c].replace(\n",
      "C:\\Users\\User\\anaconda3\\lib\\site-packages\\pandas\\core\\generic.py:6662: SettingWithCopyWarning: \n",
      "A value is trying to be set on a copy of a slice from a DataFrame.\n",
      "Try using .loc[row_indexer,col_indexer] = value instead\n",
      "\n",
      "See the caveats in the documentation: https://pandas.pydata.org/pandas-docs/stable/user_guide/indexing.html#returning-a-view-versus-a-copy\n",
      "  res[c] = res[c].replace(\n",
      "C:\\Users\\User\\anaconda3\\lib\\site-packages\\pandas\\core\\generic.py:6662: SettingWithCopyWarning: \n",
      "A value is trying to be set on a copy of a slice from a DataFrame.\n",
      "Try using .loc[row_indexer,col_indexer] = value instead\n",
      "\n",
      "See the caveats in the documentation: https://pandas.pydata.org/pandas-docs/stable/user_guide/indexing.html#returning-a-view-versus-a-copy\n",
      "  res[c] = res[c].replace(\n",
      "C:\\Users\\User\\anaconda3\\lib\\site-packages\\pandas\\core\\generic.py:6662: SettingWithCopyWarning: \n",
      "A value is trying to be set on a copy of a slice from a DataFrame.\n",
      "Try using .loc[row_indexer,col_indexer] = value instead\n",
      "\n",
      "See the caveats in the documentation: https://pandas.pydata.org/pandas-docs/stable/user_guide/indexing.html#returning-a-view-versus-a-copy\n",
      "  res[c] = res[c].replace(\n",
      "C:\\Users\\User\\anaconda3\\lib\\site-packages\\pandas\\core\\generic.py:6662: SettingWithCopyWarning: \n",
      "A value is trying to be set on a copy of a slice from a DataFrame.\n",
      "Try using .loc[row_indexer,col_indexer] = value instead\n",
      "\n",
      "See the caveats in the documentation: https://pandas.pydata.org/pandas-docs/stable/user_guide/indexing.html#returning-a-view-versus-a-copy\n",
      "  res[c] = res[c].replace(\n",
      "C:\\Users\\User\\anaconda3\\lib\\site-packages\\pandas\\core\\generic.py:6662: SettingWithCopyWarning: \n",
      "A value is trying to be set on a copy of a slice from a DataFrame.\n",
      "Try using .loc[row_indexer,col_indexer] = value instead\n",
      "\n",
      "See the caveats in the documentation: https://pandas.pydata.org/pandas-docs/stable/user_guide/indexing.html#returning-a-view-versus-a-copy\n",
      "  res[c] = res[c].replace(\n",
      "C:\\Users\\User\\anaconda3\\lib\\site-packages\\pandas\\core\\generic.py:6662: SettingWithCopyWarning: \n",
      "A value is trying to be set on a copy of a slice from a DataFrame.\n",
      "Try using .loc[row_indexer,col_indexer] = value instead\n",
      "\n",
      "See the caveats in the documentation: https://pandas.pydata.org/pandas-docs/stable/user_guide/indexing.html#returning-a-view-versus-a-copy\n",
      "  res[c] = res[c].replace(\n",
      "C:\\Users\\User\\anaconda3\\lib\\site-packages\\pandas\\core\\generic.py:6662: SettingWithCopyWarning: \n",
      "A value is trying to be set on a copy of a slice from a DataFrame.\n",
      "Try using .loc[row_indexer,col_indexer] = value instead\n",
      "\n",
      "See the caveats in the documentation: https://pandas.pydata.org/pandas-docs/stable/user_guide/indexing.html#returning-a-view-versus-a-copy\n",
      "  res[c] = res[c].replace(\n",
      "C:\\Users\\User\\anaconda3\\lib\\site-packages\\pandas\\core\\generic.py:6662: SettingWithCopyWarning: \n",
      "A value is trying to be set on a copy of a slice from a DataFrame.\n",
      "Try using .loc[row_indexer,col_indexer] = value instead\n",
      "\n",
      "See the caveats in the documentation: https://pandas.pydata.org/pandas-docs/stable/user_guide/indexing.html#returning-a-view-versus-a-copy\n",
      "  res[c] = res[c].replace(\n",
      "C:\\Users\\User\\anaconda3\\lib\\site-packages\\pandas\\core\\generic.py:6662: SettingWithCopyWarning: \n",
      "A value is trying to be set on a copy of a slice from a DataFrame.\n",
      "Try using .loc[row_indexer,col_indexer] = value instead\n",
      "\n",
      "See the caveats in the documentation: https://pandas.pydata.org/pandas-docs/stable/user_guide/indexing.html#returning-a-view-versus-a-copy\n",
      "  res[c] = res[c].replace(\n",
      "C:\\Users\\User\\anaconda3\\lib\\site-packages\\pandas\\core\\generic.py:6662: SettingWithCopyWarning: \n",
      "A value is trying to be set on a copy of a slice from a DataFrame.\n",
      "Try using .loc[row_indexer,col_indexer] = value instead\n",
      "\n",
      "See the caveats in the documentation: https://pandas.pydata.org/pandas-docs/stable/user_guide/indexing.html#returning-a-view-versus-a-copy\n",
      "  res[c] = res[c].replace(\n",
      "C:\\Users\\User\\anaconda3\\lib\\site-packages\\pandas\\core\\generic.py:6662: SettingWithCopyWarning: \n",
      "A value is trying to be set on a copy of a slice from a DataFrame.\n",
      "Try using .loc[row_indexer,col_indexer] = value instead\n",
      "\n",
      "See the caveats in the documentation: https://pandas.pydata.org/pandas-docs/stable/user_guide/indexing.html#returning-a-view-versus-a-copy\n",
      "  res[c] = res[c].replace(\n",
      "C:\\Users\\User\\anaconda3\\lib\\site-packages\\pandas\\core\\generic.py:6662: SettingWithCopyWarning: \n",
      "A value is trying to be set on a copy of a slice from a DataFrame.\n",
      "Try using .loc[row_indexer,col_indexer] = value instead\n",
      "\n",
      "See the caveats in the documentation: https://pandas.pydata.org/pandas-docs/stable/user_guide/indexing.html#returning-a-view-versus-a-copy\n",
      "  res[c] = res[c].replace(\n",
      "C:\\Users\\User\\anaconda3\\lib\\site-packages\\pandas\\core\\generic.py:6662: SettingWithCopyWarning: \n",
      "A value is trying to be set on a copy of a slice from a DataFrame.\n",
      "Try using .loc[row_indexer,col_indexer] = value instead\n",
      "\n",
      "See the caveats in the documentation: https://pandas.pydata.org/pandas-docs/stable/user_guide/indexing.html#returning-a-view-versus-a-copy\n",
      "  res[c] = res[c].replace(\n"
     ]
    },
    {
     "name": "stderr",
     "output_type": "stream",
     "text": [
      "C:\\Users\\User\\anaconda3\\lib\\site-packages\\pandas\\core\\generic.py:6662: SettingWithCopyWarning: \n",
      "A value is trying to be set on a copy of a slice from a DataFrame.\n",
      "Try using .loc[row_indexer,col_indexer] = value instead\n",
      "\n",
      "See the caveats in the documentation: https://pandas.pydata.org/pandas-docs/stable/user_guide/indexing.html#returning-a-view-versus-a-copy\n",
      "  res[c] = res[c].replace(\n",
      "C:\\Users\\User\\anaconda3\\lib\\site-packages\\pandas\\core\\generic.py:6662: SettingWithCopyWarning: \n",
      "A value is trying to be set on a copy of a slice from a DataFrame.\n",
      "Try using .loc[row_indexer,col_indexer] = value instead\n",
      "\n",
      "See the caveats in the documentation: https://pandas.pydata.org/pandas-docs/stable/user_guide/indexing.html#returning-a-view-versus-a-copy\n",
      "  res[c] = res[c].replace(\n",
      "C:\\Users\\User\\anaconda3\\lib\\site-packages\\pandas\\core\\generic.py:6662: SettingWithCopyWarning: \n",
      "A value is trying to be set on a copy of a slice from a DataFrame.\n",
      "Try using .loc[row_indexer,col_indexer] = value instead\n",
      "\n",
      "See the caveats in the documentation: https://pandas.pydata.org/pandas-docs/stable/user_guide/indexing.html#returning-a-view-versus-a-copy\n",
      "  res[c] = res[c].replace(\n",
      "C:\\Users\\User\\anaconda3\\lib\\site-packages\\pandas\\core\\generic.py:6662: SettingWithCopyWarning: \n",
      "A value is trying to be set on a copy of a slice from a DataFrame.\n",
      "Try using .loc[row_indexer,col_indexer] = value instead\n",
      "\n",
      "See the caveats in the documentation: https://pandas.pydata.org/pandas-docs/stable/user_guide/indexing.html#returning-a-view-versus-a-copy\n",
      "  res[c] = res[c].replace(\n",
      "C:\\Users\\User\\anaconda3\\lib\\site-packages\\pandas\\core\\generic.py:6662: SettingWithCopyWarning: \n",
      "A value is trying to be set on a copy of a slice from a DataFrame.\n",
      "Try using .loc[row_indexer,col_indexer] = value instead\n",
      "\n",
      "See the caveats in the documentation: https://pandas.pydata.org/pandas-docs/stable/user_guide/indexing.html#returning-a-view-versus-a-copy\n",
      "  res[c] = res[c].replace(\n",
      "C:\\Users\\User\\anaconda3\\lib\\site-packages\\pandas\\core\\generic.py:6662: SettingWithCopyWarning: \n",
      "A value is trying to be set on a copy of a slice from a DataFrame.\n",
      "Try using .loc[row_indexer,col_indexer] = value instead\n",
      "\n",
      "See the caveats in the documentation: https://pandas.pydata.org/pandas-docs/stable/user_guide/indexing.html#returning-a-view-versus-a-copy\n",
      "  res[c] = res[c].replace(\n",
      "C:\\Users\\User\\anaconda3\\lib\\site-packages\\pandas\\core\\generic.py:6662: SettingWithCopyWarning: \n",
      "A value is trying to be set on a copy of a slice from a DataFrame.\n",
      "Try using .loc[row_indexer,col_indexer] = value instead\n",
      "\n",
      "See the caveats in the documentation: https://pandas.pydata.org/pandas-docs/stable/user_guide/indexing.html#returning-a-view-versus-a-copy\n",
      "  res[c] = res[c].replace(\n",
      "C:\\Users\\User\\anaconda3\\lib\\site-packages\\pandas\\core\\generic.py:6662: SettingWithCopyWarning: \n",
      "A value is trying to be set on a copy of a slice from a DataFrame.\n",
      "Try using .loc[row_indexer,col_indexer] = value instead\n",
      "\n",
      "See the caveats in the documentation: https://pandas.pydata.org/pandas-docs/stable/user_guide/indexing.html#returning-a-view-versus-a-copy\n",
      "  res[c] = res[c].replace(\n",
      "C:\\Users\\User\\anaconda3\\lib\\site-packages\\pandas\\core\\generic.py:6662: SettingWithCopyWarning: \n",
      "A value is trying to be set on a copy of a slice from a DataFrame.\n",
      "Try using .loc[row_indexer,col_indexer] = value instead\n",
      "\n",
      "See the caveats in the documentation: https://pandas.pydata.org/pandas-docs/stable/user_guide/indexing.html#returning-a-view-versus-a-copy\n",
      "  res[c] = res[c].replace(\n",
      "C:\\Users\\User\\anaconda3\\lib\\site-packages\\pandas\\core\\generic.py:6662: SettingWithCopyWarning: \n",
      "A value is trying to be set on a copy of a slice from a DataFrame.\n",
      "Try using .loc[row_indexer,col_indexer] = value instead\n",
      "\n",
      "See the caveats in the documentation: https://pandas.pydata.org/pandas-docs/stable/user_guide/indexing.html#returning-a-view-versus-a-copy\n",
      "  res[c] = res[c].replace(\n",
      "C:\\Users\\User\\anaconda3\\lib\\site-packages\\pandas\\core\\generic.py:6662: SettingWithCopyWarning: \n",
      "A value is trying to be set on a copy of a slice from a DataFrame.\n",
      "Try using .loc[row_indexer,col_indexer] = value instead\n",
      "\n",
      "See the caveats in the documentation: https://pandas.pydata.org/pandas-docs/stable/user_guide/indexing.html#returning-a-view-versus-a-copy\n",
      "  res[c] = res[c].replace(\n",
      "C:\\Users\\User\\anaconda3\\lib\\site-packages\\pandas\\core\\generic.py:6662: SettingWithCopyWarning: \n",
      "A value is trying to be set on a copy of a slice from a DataFrame.\n",
      "Try using .loc[row_indexer,col_indexer] = value instead\n",
      "\n",
      "See the caveats in the documentation: https://pandas.pydata.org/pandas-docs/stable/user_guide/indexing.html#returning-a-view-versus-a-copy\n",
      "  res[c] = res[c].replace(\n",
      "C:\\Users\\User\\anaconda3\\lib\\site-packages\\pandas\\core\\generic.py:6662: SettingWithCopyWarning: \n",
      "A value is trying to be set on a copy of a slice from a DataFrame.\n",
      "Try using .loc[row_indexer,col_indexer] = value instead\n",
      "\n",
      "See the caveats in the documentation: https://pandas.pydata.org/pandas-docs/stable/user_guide/indexing.html#returning-a-view-versus-a-copy\n",
      "  res[c] = res[c].replace(\n",
      "C:\\Users\\User\\anaconda3\\lib\\site-packages\\pandas\\core\\generic.py:6662: SettingWithCopyWarning: \n",
      "A value is trying to be set on a copy of a slice from a DataFrame.\n",
      "Try using .loc[row_indexer,col_indexer] = value instead\n",
      "\n",
      "See the caveats in the documentation: https://pandas.pydata.org/pandas-docs/stable/user_guide/indexing.html#returning-a-view-versus-a-copy\n",
      "  res[c] = res[c].replace(\n",
      "C:\\Users\\User\\anaconda3\\lib\\site-packages\\pandas\\core\\generic.py:6662: SettingWithCopyWarning: \n",
      "A value is trying to be set on a copy of a slice from a DataFrame.\n",
      "Try using .loc[row_indexer,col_indexer] = value instead\n",
      "\n",
      "See the caveats in the documentation: https://pandas.pydata.org/pandas-docs/stable/user_guide/indexing.html#returning-a-view-versus-a-copy\n",
      "  res[c] = res[c].replace(\n",
      "C:\\Users\\User\\anaconda3\\lib\\site-packages\\pandas\\core\\generic.py:6662: SettingWithCopyWarning: \n",
      "A value is trying to be set on a copy of a slice from a DataFrame.\n",
      "Try using .loc[row_indexer,col_indexer] = value instead\n",
      "\n",
      "See the caveats in the documentation: https://pandas.pydata.org/pandas-docs/stable/user_guide/indexing.html#returning-a-view-versus-a-copy\n",
      "  res[c] = res[c].replace(\n",
      "C:\\Users\\User\\anaconda3\\lib\\site-packages\\pandas\\core\\generic.py:6662: SettingWithCopyWarning: \n",
      "A value is trying to be set on a copy of a slice from a DataFrame.\n",
      "Try using .loc[row_indexer,col_indexer] = value instead\n",
      "\n",
      "See the caveats in the documentation: https://pandas.pydata.org/pandas-docs/stable/user_guide/indexing.html#returning-a-view-versus-a-copy\n",
      "  res[c] = res[c].replace(\n",
      "C:\\Users\\User\\anaconda3\\lib\\site-packages\\pandas\\core\\generic.py:6662: SettingWithCopyWarning: \n",
      "A value is trying to be set on a copy of a slice from a DataFrame.\n",
      "Try using .loc[row_indexer,col_indexer] = value instead\n",
      "\n",
      "See the caveats in the documentation: https://pandas.pydata.org/pandas-docs/stable/user_guide/indexing.html#returning-a-view-versus-a-copy\n",
      "  res[c] = res[c].replace(\n",
      "C:\\Users\\User\\anaconda3\\lib\\site-packages\\pandas\\core\\generic.py:6662: SettingWithCopyWarning: \n",
      "A value is trying to be set on a copy of a slice from a DataFrame.\n",
      "Try using .loc[row_indexer,col_indexer] = value instead\n",
      "\n",
      "See the caveats in the documentation: https://pandas.pydata.org/pandas-docs/stable/user_guide/indexing.html#returning-a-view-versus-a-copy\n",
      "  res[c] = res[c].replace(\n",
      "C:\\Users\\User\\anaconda3\\lib\\site-packages\\pandas\\core\\generic.py:6662: SettingWithCopyWarning: \n",
      "A value is trying to be set on a copy of a slice from a DataFrame.\n",
      "Try using .loc[row_indexer,col_indexer] = value instead\n",
      "\n",
      "See the caveats in the documentation: https://pandas.pydata.org/pandas-docs/stable/user_guide/indexing.html#returning-a-view-versus-a-copy\n",
      "  res[c] = res[c].replace(\n",
      "C:\\Users\\User\\anaconda3\\lib\\site-packages\\pandas\\core\\generic.py:6662: SettingWithCopyWarning: \n",
      "A value is trying to be set on a copy of a slice from a DataFrame.\n",
      "Try using .loc[row_indexer,col_indexer] = value instead\n",
      "\n",
      "See the caveats in the documentation: https://pandas.pydata.org/pandas-docs/stable/user_guide/indexing.html#returning-a-view-versus-a-copy\n",
      "  res[c] = res[c].replace(\n",
      "C:\\Users\\User\\anaconda3\\lib\\site-packages\\pandas\\core\\generic.py:6662: SettingWithCopyWarning: \n",
      "A value is trying to be set on a copy of a slice from a DataFrame.\n",
      "Try using .loc[row_indexer,col_indexer] = value instead\n",
      "\n",
      "See the caveats in the documentation: https://pandas.pydata.org/pandas-docs/stable/user_guide/indexing.html#returning-a-view-versus-a-copy\n",
      "  res[c] = res[c].replace(\n"
     ]
    },
    {
     "name": "stderr",
     "output_type": "stream",
     "text": [
      "C:\\Users\\User\\anaconda3\\lib\\site-packages\\pandas\\core\\generic.py:6662: SettingWithCopyWarning: \n",
      "A value is trying to be set on a copy of a slice from a DataFrame.\n",
      "Try using .loc[row_indexer,col_indexer] = value instead\n",
      "\n",
      "See the caveats in the documentation: https://pandas.pydata.org/pandas-docs/stable/user_guide/indexing.html#returning-a-view-versus-a-copy\n",
      "  res[c] = res[c].replace(\n",
      "C:\\Users\\User\\anaconda3\\lib\\site-packages\\pandas\\core\\generic.py:6662: SettingWithCopyWarning: \n",
      "A value is trying to be set on a copy of a slice from a DataFrame.\n",
      "Try using .loc[row_indexer,col_indexer] = value instead\n",
      "\n",
      "See the caveats in the documentation: https://pandas.pydata.org/pandas-docs/stable/user_guide/indexing.html#returning-a-view-versus-a-copy\n",
      "  res[c] = res[c].replace(\n",
      "C:\\Users\\User\\anaconda3\\lib\\site-packages\\pandas\\core\\generic.py:6662: SettingWithCopyWarning: \n",
      "A value is trying to be set on a copy of a slice from a DataFrame.\n",
      "Try using .loc[row_indexer,col_indexer] = value instead\n",
      "\n",
      "See the caveats in the documentation: https://pandas.pydata.org/pandas-docs/stable/user_guide/indexing.html#returning-a-view-versus-a-copy\n",
      "  res[c] = res[c].replace(\n",
      "C:\\Users\\User\\anaconda3\\lib\\site-packages\\pandas\\core\\generic.py:6662: SettingWithCopyWarning: \n",
      "A value is trying to be set on a copy of a slice from a DataFrame.\n",
      "Try using .loc[row_indexer,col_indexer] = value instead\n",
      "\n",
      "See the caveats in the documentation: https://pandas.pydata.org/pandas-docs/stable/user_guide/indexing.html#returning-a-view-versus-a-copy\n",
      "  res[c] = res[c].replace(\n",
      "C:\\Users\\User\\anaconda3\\lib\\site-packages\\pandas\\core\\generic.py:6662: SettingWithCopyWarning: \n",
      "A value is trying to be set on a copy of a slice from a DataFrame.\n",
      "Try using .loc[row_indexer,col_indexer] = value instead\n",
      "\n",
      "See the caveats in the documentation: https://pandas.pydata.org/pandas-docs/stable/user_guide/indexing.html#returning-a-view-versus-a-copy\n",
      "  res[c] = res[c].replace(\n",
      "C:\\Users\\User\\anaconda3\\lib\\site-packages\\pandas\\core\\generic.py:6662: SettingWithCopyWarning: \n",
      "A value is trying to be set on a copy of a slice from a DataFrame.\n",
      "Try using .loc[row_indexer,col_indexer] = value instead\n",
      "\n",
      "See the caveats in the documentation: https://pandas.pydata.org/pandas-docs/stable/user_guide/indexing.html#returning-a-view-versus-a-copy\n",
      "  res[c] = res[c].replace(\n",
      "C:\\Users\\User\\anaconda3\\lib\\site-packages\\pandas\\core\\generic.py:6662: SettingWithCopyWarning: \n",
      "A value is trying to be set on a copy of a slice from a DataFrame.\n",
      "Try using .loc[row_indexer,col_indexer] = value instead\n",
      "\n",
      "See the caveats in the documentation: https://pandas.pydata.org/pandas-docs/stable/user_guide/indexing.html#returning-a-view-versus-a-copy\n",
      "  res[c] = res[c].replace(\n",
      "C:\\Users\\User\\anaconda3\\lib\\site-packages\\pandas\\core\\generic.py:6662: SettingWithCopyWarning: \n",
      "A value is trying to be set on a copy of a slice from a DataFrame.\n",
      "Try using .loc[row_indexer,col_indexer] = value instead\n",
      "\n",
      "See the caveats in the documentation: https://pandas.pydata.org/pandas-docs/stable/user_guide/indexing.html#returning-a-view-versus-a-copy\n",
      "  res[c] = res[c].replace(\n",
      "C:\\Users\\User\\anaconda3\\lib\\site-packages\\pandas\\core\\generic.py:6662: SettingWithCopyWarning: \n",
      "A value is trying to be set on a copy of a slice from a DataFrame.\n",
      "Try using .loc[row_indexer,col_indexer] = value instead\n",
      "\n",
      "See the caveats in the documentation: https://pandas.pydata.org/pandas-docs/stable/user_guide/indexing.html#returning-a-view-versus-a-copy\n",
      "  res[c] = res[c].replace(\n",
      "C:\\Users\\User\\anaconda3\\lib\\site-packages\\pandas\\core\\generic.py:6662: SettingWithCopyWarning: \n",
      "A value is trying to be set on a copy of a slice from a DataFrame.\n",
      "Try using .loc[row_indexer,col_indexer] = value instead\n",
      "\n",
      "See the caveats in the documentation: https://pandas.pydata.org/pandas-docs/stable/user_guide/indexing.html#returning-a-view-versus-a-copy\n",
      "  res[c] = res[c].replace(\n",
      "C:\\Users\\User\\anaconda3\\lib\\site-packages\\pandas\\core\\generic.py:6662: SettingWithCopyWarning: \n",
      "A value is trying to be set on a copy of a slice from a DataFrame.\n",
      "Try using .loc[row_indexer,col_indexer] = value instead\n",
      "\n",
      "See the caveats in the documentation: https://pandas.pydata.org/pandas-docs/stable/user_guide/indexing.html#returning-a-view-versus-a-copy\n",
      "  res[c] = res[c].replace(\n",
      "C:\\Users\\User\\anaconda3\\lib\\site-packages\\pandas\\core\\generic.py:6662: SettingWithCopyWarning: \n",
      "A value is trying to be set on a copy of a slice from a DataFrame.\n",
      "Try using .loc[row_indexer,col_indexer] = value instead\n",
      "\n",
      "See the caveats in the documentation: https://pandas.pydata.org/pandas-docs/stable/user_guide/indexing.html#returning-a-view-versus-a-copy\n",
      "  res[c] = res[c].replace(\n",
      "C:\\Users\\User\\anaconda3\\lib\\site-packages\\pandas\\core\\generic.py:6662: SettingWithCopyWarning: \n",
      "A value is trying to be set on a copy of a slice from a DataFrame.\n",
      "Try using .loc[row_indexer,col_indexer] = value instead\n",
      "\n",
      "See the caveats in the documentation: https://pandas.pydata.org/pandas-docs/stable/user_guide/indexing.html#returning-a-view-versus-a-copy\n",
      "  res[c] = res[c].replace(\n",
      "C:\\Users\\User\\anaconda3\\lib\\site-packages\\pandas\\core\\generic.py:6662: SettingWithCopyWarning: \n",
      "A value is trying to be set on a copy of a slice from a DataFrame.\n",
      "Try using .loc[row_indexer,col_indexer] = value instead\n",
      "\n",
      "See the caveats in the documentation: https://pandas.pydata.org/pandas-docs/stable/user_guide/indexing.html#returning-a-view-versus-a-copy\n",
      "  res[c] = res[c].replace(\n",
      "C:\\Users\\User\\anaconda3\\lib\\site-packages\\pandas\\core\\generic.py:6662: SettingWithCopyWarning: \n",
      "A value is trying to be set on a copy of a slice from a DataFrame.\n",
      "Try using .loc[row_indexer,col_indexer] = value instead\n",
      "\n",
      "See the caveats in the documentation: https://pandas.pydata.org/pandas-docs/stable/user_guide/indexing.html#returning-a-view-versus-a-copy\n",
      "  res[c] = res[c].replace(\n",
      "C:\\Users\\User\\anaconda3\\lib\\site-packages\\pandas\\core\\generic.py:6662: SettingWithCopyWarning: \n",
      "A value is trying to be set on a copy of a slice from a DataFrame.\n",
      "Try using .loc[row_indexer,col_indexer] = value instead\n",
      "\n",
      "See the caveats in the documentation: https://pandas.pydata.org/pandas-docs/stable/user_guide/indexing.html#returning-a-view-versus-a-copy\n",
      "  res[c] = res[c].replace(\n",
      "C:\\Users\\User\\anaconda3\\lib\\site-packages\\pandas\\core\\generic.py:6662: SettingWithCopyWarning: \n",
      "A value is trying to be set on a copy of a slice from a DataFrame.\n",
      "Try using .loc[row_indexer,col_indexer] = value instead\n",
      "\n",
      "See the caveats in the documentation: https://pandas.pydata.org/pandas-docs/stable/user_guide/indexing.html#returning-a-view-versus-a-copy\n",
      "  res[c] = res[c].replace(\n",
      "C:\\Users\\User\\anaconda3\\lib\\site-packages\\pandas\\core\\generic.py:6662: SettingWithCopyWarning: \n",
      "A value is trying to be set on a copy of a slice from a DataFrame.\n",
      "Try using .loc[row_indexer,col_indexer] = value instead\n",
      "\n",
      "See the caveats in the documentation: https://pandas.pydata.org/pandas-docs/stable/user_guide/indexing.html#returning-a-view-versus-a-copy\n",
      "  res[c] = res[c].replace(\n",
      "C:\\Users\\User\\anaconda3\\lib\\site-packages\\pandas\\core\\generic.py:6662: SettingWithCopyWarning: \n",
      "A value is trying to be set on a copy of a slice from a DataFrame.\n",
      "Try using .loc[row_indexer,col_indexer] = value instead\n",
      "\n",
      "See the caveats in the documentation: https://pandas.pydata.org/pandas-docs/stable/user_guide/indexing.html#returning-a-view-versus-a-copy\n",
      "  res[c] = res[c].replace(\n",
      "C:\\Users\\User\\anaconda3\\lib\\site-packages\\pandas\\core\\generic.py:6662: SettingWithCopyWarning: \n",
      "A value is trying to be set on a copy of a slice from a DataFrame.\n",
      "Try using .loc[row_indexer,col_indexer] = value instead\n",
      "\n",
      "See the caveats in the documentation: https://pandas.pydata.org/pandas-docs/stable/user_guide/indexing.html#returning-a-view-versus-a-copy\n",
      "  res[c] = res[c].replace(\n",
      "C:\\Users\\User\\anaconda3\\lib\\site-packages\\pandas\\core\\generic.py:6662: SettingWithCopyWarning: \n",
      "A value is trying to be set on a copy of a slice from a DataFrame.\n",
      "Try using .loc[row_indexer,col_indexer] = value instead\n",
      "\n",
      "See the caveats in the documentation: https://pandas.pydata.org/pandas-docs/stable/user_guide/indexing.html#returning-a-view-versus-a-copy\n",
      "  res[c] = res[c].replace(\n",
      "C:\\Users\\User\\anaconda3\\lib\\site-packages\\pandas\\core\\generic.py:6662: SettingWithCopyWarning: \n",
      "A value is trying to be set on a copy of a slice from a DataFrame.\n",
      "Try using .loc[row_indexer,col_indexer] = value instead\n",
      "\n",
      "See the caveats in the documentation: https://pandas.pydata.org/pandas-docs/stable/user_guide/indexing.html#returning-a-view-versus-a-copy\n",
      "  res[c] = res[c].replace(\n"
     ]
    },
    {
     "name": "stderr",
     "output_type": "stream",
     "text": [
      "C:\\Users\\User\\anaconda3\\lib\\site-packages\\pandas\\core\\generic.py:6662: SettingWithCopyWarning: \n",
      "A value is trying to be set on a copy of a slice from a DataFrame.\n",
      "Try using .loc[row_indexer,col_indexer] = value instead\n",
      "\n",
      "See the caveats in the documentation: https://pandas.pydata.org/pandas-docs/stable/user_guide/indexing.html#returning-a-view-versus-a-copy\n",
      "  res[c] = res[c].replace(\n",
      "C:\\Users\\User\\anaconda3\\lib\\site-packages\\pandas\\core\\generic.py:6662: SettingWithCopyWarning: \n",
      "A value is trying to be set on a copy of a slice from a DataFrame.\n",
      "Try using .loc[row_indexer,col_indexer] = value instead\n",
      "\n",
      "See the caveats in the documentation: https://pandas.pydata.org/pandas-docs/stable/user_guide/indexing.html#returning-a-view-versus-a-copy\n",
      "  res[c] = res[c].replace(\n",
      "C:\\Users\\User\\anaconda3\\lib\\site-packages\\pandas\\core\\generic.py:6662: SettingWithCopyWarning: \n",
      "A value is trying to be set on a copy of a slice from a DataFrame.\n",
      "Try using .loc[row_indexer,col_indexer] = value instead\n",
      "\n",
      "See the caveats in the documentation: https://pandas.pydata.org/pandas-docs/stable/user_guide/indexing.html#returning-a-view-versus-a-copy\n",
      "  res[c] = res[c].replace(\n",
      "C:\\Users\\User\\anaconda3\\lib\\site-packages\\pandas\\core\\generic.py:6662: SettingWithCopyWarning: \n",
      "A value is trying to be set on a copy of a slice from a DataFrame.\n",
      "Try using .loc[row_indexer,col_indexer] = value instead\n",
      "\n",
      "See the caveats in the documentation: https://pandas.pydata.org/pandas-docs/stable/user_guide/indexing.html#returning-a-view-versus-a-copy\n",
      "  res[c] = res[c].replace(\n",
      "C:\\Users\\User\\anaconda3\\lib\\site-packages\\pandas\\core\\generic.py:6662: SettingWithCopyWarning: \n",
      "A value is trying to be set on a copy of a slice from a DataFrame.\n",
      "Try using .loc[row_indexer,col_indexer] = value instead\n",
      "\n",
      "See the caveats in the documentation: https://pandas.pydata.org/pandas-docs/stable/user_guide/indexing.html#returning-a-view-versus-a-copy\n",
      "  res[c] = res[c].replace(\n",
      "C:\\Users\\User\\anaconda3\\lib\\site-packages\\pandas\\core\\generic.py:6662: SettingWithCopyWarning: \n",
      "A value is trying to be set on a copy of a slice from a DataFrame.\n",
      "Try using .loc[row_indexer,col_indexer] = value instead\n",
      "\n",
      "See the caveats in the documentation: https://pandas.pydata.org/pandas-docs/stable/user_guide/indexing.html#returning-a-view-versus-a-copy\n",
      "  res[c] = res[c].replace(\n",
      "C:\\Users\\User\\anaconda3\\lib\\site-packages\\pandas\\core\\generic.py:6662: SettingWithCopyWarning: \n",
      "A value is trying to be set on a copy of a slice from a DataFrame.\n",
      "Try using .loc[row_indexer,col_indexer] = value instead\n",
      "\n",
      "See the caveats in the documentation: https://pandas.pydata.org/pandas-docs/stable/user_guide/indexing.html#returning-a-view-versus-a-copy\n",
      "  res[c] = res[c].replace(\n",
      "C:\\Users\\User\\anaconda3\\lib\\site-packages\\pandas\\core\\generic.py:6662: SettingWithCopyWarning: \n",
      "A value is trying to be set on a copy of a slice from a DataFrame.\n",
      "Try using .loc[row_indexer,col_indexer] = value instead\n",
      "\n",
      "See the caveats in the documentation: https://pandas.pydata.org/pandas-docs/stable/user_guide/indexing.html#returning-a-view-versus-a-copy\n",
      "  res[c] = res[c].replace(\n",
      "C:\\Users\\User\\anaconda3\\lib\\site-packages\\pandas\\core\\generic.py:6662: SettingWithCopyWarning: \n",
      "A value is trying to be set on a copy of a slice from a DataFrame.\n",
      "Try using .loc[row_indexer,col_indexer] = value instead\n",
      "\n",
      "See the caveats in the documentation: https://pandas.pydata.org/pandas-docs/stable/user_guide/indexing.html#returning-a-view-versus-a-copy\n",
      "  res[c] = res[c].replace(\n",
      "C:\\Users\\User\\anaconda3\\lib\\site-packages\\pandas\\core\\generic.py:6662: SettingWithCopyWarning: \n",
      "A value is trying to be set on a copy of a slice from a DataFrame.\n",
      "Try using .loc[row_indexer,col_indexer] = value instead\n",
      "\n",
      "See the caveats in the documentation: https://pandas.pydata.org/pandas-docs/stable/user_guide/indexing.html#returning-a-view-versus-a-copy\n",
      "  res[c] = res[c].replace(\n",
      "C:\\Users\\User\\anaconda3\\lib\\site-packages\\pandas\\core\\generic.py:6662: SettingWithCopyWarning: \n",
      "A value is trying to be set on a copy of a slice from a DataFrame.\n",
      "Try using .loc[row_indexer,col_indexer] = value instead\n",
      "\n",
      "See the caveats in the documentation: https://pandas.pydata.org/pandas-docs/stable/user_guide/indexing.html#returning-a-view-versus-a-copy\n",
      "  res[c] = res[c].replace(\n",
      "C:\\Users\\User\\anaconda3\\lib\\site-packages\\pandas\\core\\generic.py:6662: SettingWithCopyWarning: \n",
      "A value is trying to be set on a copy of a slice from a DataFrame.\n",
      "Try using .loc[row_indexer,col_indexer] = value instead\n",
      "\n",
      "See the caveats in the documentation: https://pandas.pydata.org/pandas-docs/stable/user_guide/indexing.html#returning-a-view-versus-a-copy\n",
      "  res[c] = res[c].replace(\n",
      "C:\\Users\\User\\anaconda3\\lib\\site-packages\\pandas\\core\\generic.py:6662: SettingWithCopyWarning: \n",
      "A value is trying to be set on a copy of a slice from a DataFrame.\n",
      "Try using .loc[row_indexer,col_indexer] = value instead\n",
      "\n",
      "See the caveats in the documentation: https://pandas.pydata.org/pandas-docs/stable/user_guide/indexing.html#returning-a-view-versus-a-copy\n",
      "  res[c] = res[c].replace(\n",
      "C:\\Users\\User\\anaconda3\\lib\\site-packages\\pandas\\core\\generic.py:6662: SettingWithCopyWarning: \n",
      "A value is trying to be set on a copy of a slice from a DataFrame.\n",
      "Try using .loc[row_indexer,col_indexer] = value instead\n",
      "\n",
      "See the caveats in the documentation: https://pandas.pydata.org/pandas-docs/stable/user_guide/indexing.html#returning-a-view-versus-a-copy\n",
      "  res[c] = res[c].replace(\n",
      "C:\\Users\\User\\anaconda3\\lib\\site-packages\\pandas\\core\\generic.py:6662: SettingWithCopyWarning: \n",
      "A value is trying to be set on a copy of a slice from a DataFrame.\n",
      "Try using .loc[row_indexer,col_indexer] = value instead\n",
      "\n",
      "See the caveats in the documentation: https://pandas.pydata.org/pandas-docs/stable/user_guide/indexing.html#returning-a-view-versus-a-copy\n",
      "  res[c] = res[c].replace(\n",
      "C:\\Users\\User\\anaconda3\\lib\\site-packages\\pandas\\core\\generic.py:6662: SettingWithCopyWarning: \n",
      "A value is trying to be set on a copy of a slice from a DataFrame.\n",
      "Try using .loc[row_indexer,col_indexer] = value instead\n",
      "\n",
      "See the caveats in the documentation: https://pandas.pydata.org/pandas-docs/stable/user_guide/indexing.html#returning-a-view-versus-a-copy\n",
      "  res[c] = res[c].replace(\n",
      "C:\\Users\\User\\anaconda3\\lib\\site-packages\\pandas\\core\\generic.py:6662: SettingWithCopyWarning: \n",
      "A value is trying to be set on a copy of a slice from a DataFrame.\n",
      "Try using .loc[row_indexer,col_indexer] = value instead\n",
      "\n",
      "See the caveats in the documentation: https://pandas.pydata.org/pandas-docs/stable/user_guide/indexing.html#returning-a-view-versus-a-copy\n",
      "  res[c] = res[c].replace(\n",
      "C:\\Users\\User\\anaconda3\\lib\\site-packages\\pandas\\core\\generic.py:6662: SettingWithCopyWarning: \n",
      "A value is trying to be set on a copy of a slice from a DataFrame.\n",
      "Try using .loc[row_indexer,col_indexer] = value instead\n",
      "\n",
      "See the caveats in the documentation: https://pandas.pydata.org/pandas-docs/stable/user_guide/indexing.html#returning-a-view-versus-a-copy\n",
      "  res[c] = res[c].replace(\n",
      "C:\\Users\\User\\anaconda3\\lib\\site-packages\\pandas\\core\\generic.py:6662: SettingWithCopyWarning: \n",
      "A value is trying to be set on a copy of a slice from a DataFrame.\n",
      "Try using .loc[row_indexer,col_indexer] = value instead\n",
      "\n",
      "See the caveats in the documentation: https://pandas.pydata.org/pandas-docs/stable/user_guide/indexing.html#returning-a-view-versus-a-copy\n",
      "  res[c] = res[c].replace(\n",
      "C:\\Users\\User\\anaconda3\\lib\\site-packages\\pandas\\core\\generic.py:6662: SettingWithCopyWarning: \n",
      "A value is trying to be set on a copy of a slice from a DataFrame.\n",
      "Try using .loc[row_indexer,col_indexer] = value instead\n",
      "\n",
      "See the caveats in the documentation: https://pandas.pydata.org/pandas-docs/stable/user_guide/indexing.html#returning-a-view-versus-a-copy\n",
      "  res[c] = res[c].replace(\n",
      "C:\\Users\\User\\anaconda3\\lib\\site-packages\\pandas\\core\\generic.py:6662: SettingWithCopyWarning: \n",
      "A value is trying to be set on a copy of a slice from a DataFrame.\n",
      "Try using .loc[row_indexer,col_indexer] = value instead\n",
      "\n",
      "See the caveats in the documentation: https://pandas.pydata.org/pandas-docs/stable/user_guide/indexing.html#returning-a-view-versus-a-copy\n",
      "  res[c] = res[c].replace(\n",
      "C:\\Users\\User\\anaconda3\\lib\\site-packages\\pandas\\core\\generic.py:6662: SettingWithCopyWarning: \n",
      "A value is trying to be set on a copy of a slice from a DataFrame.\n",
      "Try using .loc[row_indexer,col_indexer] = value instead\n",
      "\n",
      "See the caveats in the documentation: https://pandas.pydata.org/pandas-docs/stable/user_guide/indexing.html#returning-a-view-versus-a-copy\n",
      "  res[c] = res[c].replace(\n"
     ]
    },
    {
     "name": "stderr",
     "output_type": "stream",
     "text": [
      "C:\\Users\\User\\anaconda3\\lib\\site-packages\\pandas\\core\\generic.py:6662: SettingWithCopyWarning: \n",
      "A value is trying to be set on a copy of a slice from a DataFrame.\n",
      "Try using .loc[row_indexer,col_indexer] = value instead\n",
      "\n",
      "See the caveats in the documentation: https://pandas.pydata.org/pandas-docs/stable/user_guide/indexing.html#returning-a-view-versus-a-copy\n",
      "  res[c] = res[c].replace(\n",
      "C:\\Users\\User\\anaconda3\\lib\\site-packages\\pandas\\core\\generic.py:6662: SettingWithCopyWarning: \n",
      "A value is trying to be set on a copy of a slice from a DataFrame.\n",
      "Try using .loc[row_indexer,col_indexer] = value instead\n",
      "\n",
      "See the caveats in the documentation: https://pandas.pydata.org/pandas-docs/stable/user_guide/indexing.html#returning-a-view-versus-a-copy\n",
      "  res[c] = res[c].replace(\n",
      "C:\\Users\\User\\anaconda3\\lib\\site-packages\\pandas\\core\\generic.py:6662: SettingWithCopyWarning: \n",
      "A value is trying to be set on a copy of a slice from a DataFrame.\n",
      "Try using .loc[row_indexer,col_indexer] = value instead\n",
      "\n",
      "See the caveats in the documentation: https://pandas.pydata.org/pandas-docs/stable/user_guide/indexing.html#returning-a-view-versus-a-copy\n",
      "  res[c] = res[c].replace(\n",
      "C:\\Users\\User\\anaconda3\\lib\\site-packages\\pandas\\core\\generic.py:6662: SettingWithCopyWarning: \n",
      "A value is trying to be set on a copy of a slice from a DataFrame.\n",
      "Try using .loc[row_indexer,col_indexer] = value instead\n",
      "\n",
      "See the caveats in the documentation: https://pandas.pydata.org/pandas-docs/stable/user_guide/indexing.html#returning-a-view-versus-a-copy\n",
      "  res[c] = res[c].replace(\n",
      "C:\\Users\\User\\anaconda3\\lib\\site-packages\\pandas\\core\\generic.py:6662: SettingWithCopyWarning: \n",
      "A value is trying to be set on a copy of a slice from a DataFrame.\n",
      "Try using .loc[row_indexer,col_indexer] = value instead\n",
      "\n",
      "See the caveats in the documentation: https://pandas.pydata.org/pandas-docs/stable/user_guide/indexing.html#returning-a-view-versus-a-copy\n",
      "  res[c] = res[c].replace(\n",
      "C:\\Users\\User\\anaconda3\\lib\\site-packages\\pandas\\core\\generic.py:6662: SettingWithCopyWarning: \n",
      "A value is trying to be set on a copy of a slice from a DataFrame.\n",
      "Try using .loc[row_indexer,col_indexer] = value instead\n",
      "\n",
      "See the caveats in the documentation: https://pandas.pydata.org/pandas-docs/stable/user_guide/indexing.html#returning-a-view-versus-a-copy\n",
      "  res[c] = res[c].replace(\n",
      "C:\\Users\\User\\anaconda3\\lib\\site-packages\\pandas\\core\\generic.py:6662: SettingWithCopyWarning: \n",
      "A value is trying to be set on a copy of a slice from a DataFrame.\n",
      "Try using .loc[row_indexer,col_indexer] = value instead\n",
      "\n",
      "See the caveats in the documentation: https://pandas.pydata.org/pandas-docs/stable/user_guide/indexing.html#returning-a-view-versus-a-copy\n",
      "  res[c] = res[c].replace(\n",
      "C:\\Users\\User\\anaconda3\\lib\\site-packages\\pandas\\core\\generic.py:6662: SettingWithCopyWarning: \n",
      "A value is trying to be set on a copy of a slice from a DataFrame.\n",
      "Try using .loc[row_indexer,col_indexer] = value instead\n",
      "\n",
      "See the caveats in the documentation: https://pandas.pydata.org/pandas-docs/stable/user_guide/indexing.html#returning-a-view-versus-a-copy\n",
      "  res[c] = res[c].replace(\n",
      "C:\\Users\\User\\anaconda3\\lib\\site-packages\\pandas\\core\\generic.py:6662: SettingWithCopyWarning: \n",
      "A value is trying to be set on a copy of a slice from a DataFrame.\n",
      "Try using .loc[row_indexer,col_indexer] = value instead\n",
      "\n",
      "See the caveats in the documentation: https://pandas.pydata.org/pandas-docs/stable/user_guide/indexing.html#returning-a-view-versus-a-copy\n",
      "  res[c] = res[c].replace(\n",
      "C:\\Users\\User\\anaconda3\\lib\\site-packages\\pandas\\core\\generic.py:6662: SettingWithCopyWarning: \n",
      "A value is trying to be set on a copy of a slice from a DataFrame.\n",
      "Try using .loc[row_indexer,col_indexer] = value instead\n",
      "\n",
      "See the caveats in the documentation: https://pandas.pydata.org/pandas-docs/stable/user_guide/indexing.html#returning-a-view-versus-a-copy\n",
      "  res[c] = res[c].replace(\n",
      "C:\\Users\\User\\anaconda3\\lib\\site-packages\\pandas\\core\\generic.py:6662: SettingWithCopyWarning: \n",
      "A value is trying to be set on a copy of a slice from a DataFrame.\n",
      "Try using .loc[row_indexer,col_indexer] = value instead\n",
      "\n",
      "See the caveats in the documentation: https://pandas.pydata.org/pandas-docs/stable/user_guide/indexing.html#returning-a-view-versus-a-copy\n",
      "  res[c] = res[c].replace(\n",
      "C:\\Users\\User\\anaconda3\\lib\\site-packages\\pandas\\core\\generic.py:6662: SettingWithCopyWarning: \n",
      "A value is trying to be set on a copy of a slice from a DataFrame.\n",
      "Try using .loc[row_indexer,col_indexer] = value instead\n",
      "\n",
      "See the caveats in the documentation: https://pandas.pydata.org/pandas-docs/stable/user_guide/indexing.html#returning-a-view-versus-a-copy\n",
      "  res[c] = res[c].replace(\n",
      "C:\\Users\\User\\anaconda3\\lib\\site-packages\\pandas\\core\\generic.py:6662: SettingWithCopyWarning: \n",
      "A value is trying to be set on a copy of a slice from a DataFrame.\n",
      "Try using .loc[row_indexer,col_indexer] = value instead\n",
      "\n",
      "See the caveats in the documentation: https://pandas.pydata.org/pandas-docs/stable/user_guide/indexing.html#returning-a-view-versus-a-copy\n",
      "  res[c] = res[c].replace(\n",
      "C:\\Users\\User\\anaconda3\\lib\\site-packages\\pandas\\core\\generic.py:6662: SettingWithCopyWarning: \n",
      "A value is trying to be set on a copy of a slice from a DataFrame.\n",
      "Try using .loc[row_indexer,col_indexer] = value instead\n",
      "\n",
      "See the caveats in the documentation: https://pandas.pydata.org/pandas-docs/stable/user_guide/indexing.html#returning-a-view-versus-a-copy\n",
      "  res[c] = res[c].replace(\n",
      "C:\\Users\\User\\anaconda3\\lib\\site-packages\\pandas\\core\\generic.py:6662: SettingWithCopyWarning: \n",
      "A value is trying to be set on a copy of a slice from a DataFrame.\n",
      "Try using .loc[row_indexer,col_indexer] = value instead\n",
      "\n",
      "See the caveats in the documentation: https://pandas.pydata.org/pandas-docs/stable/user_guide/indexing.html#returning-a-view-versus-a-copy\n",
      "  res[c] = res[c].replace(\n",
      "C:\\Users\\User\\anaconda3\\lib\\site-packages\\pandas\\core\\generic.py:6662: SettingWithCopyWarning: \n",
      "A value is trying to be set on a copy of a slice from a DataFrame.\n",
      "Try using .loc[row_indexer,col_indexer] = value instead\n",
      "\n",
      "See the caveats in the documentation: https://pandas.pydata.org/pandas-docs/stable/user_guide/indexing.html#returning-a-view-versus-a-copy\n",
      "  res[c] = res[c].replace(\n",
      "C:\\Users\\User\\anaconda3\\lib\\site-packages\\pandas\\core\\generic.py:6662: SettingWithCopyWarning: \n",
      "A value is trying to be set on a copy of a slice from a DataFrame.\n",
      "Try using .loc[row_indexer,col_indexer] = value instead\n",
      "\n",
      "See the caveats in the documentation: https://pandas.pydata.org/pandas-docs/stable/user_guide/indexing.html#returning-a-view-versus-a-copy\n",
      "  res[c] = res[c].replace(\n",
      "C:\\Users\\User\\anaconda3\\lib\\site-packages\\pandas\\core\\generic.py:6662: SettingWithCopyWarning: \n",
      "A value is trying to be set on a copy of a slice from a DataFrame.\n",
      "Try using .loc[row_indexer,col_indexer] = value instead\n",
      "\n",
      "See the caveats in the documentation: https://pandas.pydata.org/pandas-docs/stable/user_guide/indexing.html#returning-a-view-versus-a-copy\n",
      "  res[c] = res[c].replace(\n",
      "C:\\Users\\User\\anaconda3\\lib\\site-packages\\pandas\\core\\generic.py:6662: SettingWithCopyWarning: \n",
      "A value is trying to be set on a copy of a slice from a DataFrame.\n",
      "Try using .loc[row_indexer,col_indexer] = value instead\n",
      "\n",
      "See the caveats in the documentation: https://pandas.pydata.org/pandas-docs/stable/user_guide/indexing.html#returning-a-view-versus-a-copy\n",
      "  res[c] = res[c].replace(\n",
      "C:\\Users\\User\\anaconda3\\lib\\site-packages\\pandas\\core\\generic.py:6662: SettingWithCopyWarning: \n",
      "A value is trying to be set on a copy of a slice from a DataFrame.\n",
      "Try using .loc[row_indexer,col_indexer] = value instead\n",
      "\n",
      "See the caveats in the documentation: https://pandas.pydata.org/pandas-docs/stable/user_guide/indexing.html#returning-a-view-versus-a-copy\n",
      "  res[c] = res[c].replace(\n",
      "C:\\Users\\User\\anaconda3\\lib\\site-packages\\pandas\\core\\generic.py:6662: SettingWithCopyWarning: \n",
      "A value is trying to be set on a copy of a slice from a DataFrame.\n",
      "Try using .loc[row_indexer,col_indexer] = value instead\n",
      "\n",
      "See the caveats in the documentation: https://pandas.pydata.org/pandas-docs/stable/user_guide/indexing.html#returning-a-view-versus-a-copy\n",
      "  res[c] = res[c].replace(\n",
      "C:\\Users\\User\\anaconda3\\lib\\site-packages\\pandas\\core\\generic.py:6662: SettingWithCopyWarning: \n",
      "A value is trying to be set on a copy of a slice from a DataFrame.\n",
      "Try using .loc[row_indexer,col_indexer] = value instead\n",
      "\n",
      "See the caveats in the documentation: https://pandas.pydata.org/pandas-docs/stable/user_guide/indexing.html#returning-a-view-versus-a-copy\n",
      "  res[c] = res[c].replace(\n"
     ]
    },
    {
     "name": "stderr",
     "output_type": "stream",
     "text": [
      "C:\\Users\\User\\anaconda3\\lib\\site-packages\\pandas\\core\\generic.py:6662: SettingWithCopyWarning: \n",
      "A value is trying to be set on a copy of a slice from a DataFrame.\n",
      "Try using .loc[row_indexer,col_indexer] = value instead\n",
      "\n",
      "See the caveats in the documentation: https://pandas.pydata.org/pandas-docs/stable/user_guide/indexing.html#returning-a-view-versus-a-copy\n",
      "  res[c] = res[c].replace(\n",
      "C:\\Users\\User\\anaconda3\\lib\\site-packages\\pandas\\core\\generic.py:6662: SettingWithCopyWarning: \n",
      "A value is trying to be set on a copy of a slice from a DataFrame.\n",
      "Try using .loc[row_indexer,col_indexer] = value instead\n",
      "\n",
      "See the caveats in the documentation: https://pandas.pydata.org/pandas-docs/stable/user_guide/indexing.html#returning-a-view-versus-a-copy\n",
      "  res[c] = res[c].replace(\n",
      "C:\\Users\\User\\anaconda3\\lib\\site-packages\\pandas\\core\\generic.py:6662: SettingWithCopyWarning: \n",
      "A value is trying to be set on a copy of a slice from a DataFrame.\n",
      "Try using .loc[row_indexer,col_indexer] = value instead\n",
      "\n",
      "See the caveats in the documentation: https://pandas.pydata.org/pandas-docs/stable/user_guide/indexing.html#returning-a-view-versus-a-copy\n",
      "  res[c] = res[c].replace(\n",
      "C:\\Users\\User\\anaconda3\\lib\\site-packages\\pandas\\core\\generic.py:6662: SettingWithCopyWarning: \n",
      "A value is trying to be set on a copy of a slice from a DataFrame.\n",
      "Try using .loc[row_indexer,col_indexer] = value instead\n",
      "\n",
      "See the caveats in the documentation: https://pandas.pydata.org/pandas-docs/stable/user_guide/indexing.html#returning-a-view-versus-a-copy\n",
      "  res[c] = res[c].replace(\n",
      "C:\\Users\\User\\anaconda3\\lib\\site-packages\\pandas\\core\\generic.py:6662: SettingWithCopyWarning: \n",
      "A value is trying to be set on a copy of a slice from a DataFrame.\n",
      "Try using .loc[row_indexer,col_indexer] = value instead\n",
      "\n",
      "See the caveats in the documentation: https://pandas.pydata.org/pandas-docs/stable/user_guide/indexing.html#returning-a-view-versus-a-copy\n",
      "  res[c] = res[c].replace(\n",
      "C:\\Users\\User\\anaconda3\\lib\\site-packages\\pandas\\core\\generic.py:6662: SettingWithCopyWarning: \n",
      "A value is trying to be set on a copy of a slice from a DataFrame.\n",
      "Try using .loc[row_indexer,col_indexer] = value instead\n",
      "\n",
      "See the caveats in the documentation: https://pandas.pydata.org/pandas-docs/stable/user_guide/indexing.html#returning-a-view-versus-a-copy\n",
      "  res[c] = res[c].replace(\n",
      "C:\\Users\\User\\anaconda3\\lib\\site-packages\\pandas\\core\\generic.py:6662: SettingWithCopyWarning: \n",
      "A value is trying to be set on a copy of a slice from a DataFrame.\n",
      "Try using .loc[row_indexer,col_indexer] = value instead\n",
      "\n",
      "See the caveats in the documentation: https://pandas.pydata.org/pandas-docs/stable/user_guide/indexing.html#returning-a-view-versus-a-copy\n",
      "  res[c] = res[c].replace(\n",
      "C:\\Users\\User\\anaconda3\\lib\\site-packages\\pandas\\core\\generic.py:6662: SettingWithCopyWarning: \n",
      "A value is trying to be set on a copy of a slice from a DataFrame.\n",
      "Try using .loc[row_indexer,col_indexer] = value instead\n",
      "\n",
      "See the caveats in the documentation: https://pandas.pydata.org/pandas-docs/stable/user_guide/indexing.html#returning-a-view-versus-a-copy\n",
      "  res[c] = res[c].replace(\n",
      "C:\\Users\\User\\anaconda3\\lib\\site-packages\\pandas\\core\\generic.py:6662: SettingWithCopyWarning: \n",
      "A value is trying to be set on a copy of a slice from a DataFrame.\n",
      "Try using .loc[row_indexer,col_indexer] = value instead\n",
      "\n",
      "See the caveats in the documentation: https://pandas.pydata.org/pandas-docs/stable/user_guide/indexing.html#returning-a-view-versus-a-copy\n",
      "  res[c] = res[c].replace(\n",
      "C:\\Users\\User\\anaconda3\\lib\\site-packages\\pandas\\core\\generic.py:6662: SettingWithCopyWarning: \n",
      "A value is trying to be set on a copy of a slice from a DataFrame.\n",
      "Try using .loc[row_indexer,col_indexer] = value instead\n",
      "\n",
      "See the caveats in the documentation: https://pandas.pydata.org/pandas-docs/stable/user_guide/indexing.html#returning-a-view-versus-a-copy\n",
      "  res[c] = res[c].replace(\n",
      "C:\\Users\\User\\anaconda3\\lib\\site-packages\\pandas\\core\\generic.py:6662: SettingWithCopyWarning: \n",
      "A value is trying to be set on a copy of a slice from a DataFrame.\n",
      "Try using .loc[row_indexer,col_indexer] = value instead\n",
      "\n",
      "See the caveats in the documentation: https://pandas.pydata.org/pandas-docs/stable/user_guide/indexing.html#returning-a-view-versus-a-copy\n",
      "  res[c] = res[c].replace(\n",
      "C:\\Users\\User\\anaconda3\\lib\\site-packages\\pandas\\core\\generic.py:6662: SettingWithCopyWarning: \n",
      "A value is trying to be set on a copy of a slice from a DataFrame.\n",
      "Try using .loc[row_indexer,col_indexer] = value instead\n",
      "\n",
      "See the caveats in the documentation: https://pandas.pydata.org/pandas-docs/stable/user_guide/indexing.html#returning-a-view-versus-a-copy\n",
      "  res[c] = res[c].replace(\n",
      "C:\\Users\\User\\anaconda3\\lib\\site-packages\\pandas\\core\\generic.py:6662: SettingWithCopyWarning: \n",
      "A value is trying to be set on a copy of a slice from a DataFrame.\n",
      "Try using .loc[row_indexer,col_indexer] = value instead\n",
      "\n",
      "See the caveats in the documentation: https://pandas.pydata.org/pandas-docs/stable/user_guide/indexing.html#returning-a-view-versus-a-copy\n",
      "  res[c] = res[c].replace(\n",
      "C:\\Users\\User\\anaconda3\\lib\\site-packages\\pandas\\core\\generic.py:6662: SettingWithCopyWarning: \n",
      "A value is trying to be set on a copy of a slice from a DataFrame.\n",
      "Try using .loc[row_indexer,col_indexer] = value instead\n",
      "\n",
      "See the caveats in the documentation: https://pandas.pydata.org/pandas-docs/stable/user_guide/indexing.html#returning-a-view-versus-a-copy\n",
      "  res[c] = res[c].replace(\n",
      "C:\\Users\\User\\anaconda3\\lib\\site-packages\\pandas\\core\\generic.py:6662: SettingWithCopyWarning: \n",
      "A value is trying to be set on a copy of a slice from a DataFrame.\n",
      "Try using .loc[row_indexer,col_indexer] = value instead\n",
      "\n",
      "See the caveats in the documentation: https://pandas.pydata.org/pandas-docs/stable/user_guide/indexing.html#returning-a-view-versus-a-copy\n",
      "  res[c] = res[c].replace(\n",
      "C:\\Users\\User\\anaconda3\\lib\\site-packages\\pandas\\core\\generic.py:6662: SettingWithCopyWarning: \n",
      "A value is trying to be set on a copy of a slice from a DataFrame.\n",
      "Try using .loc[row_indexer,col_indexer] = value instead\n",
      "\n",
      "See the caveats in the documentation: https://pandas.pydata.org/pandas-docs/stable/user_guide/indexing.html#returning-a-view-versus-a-copy\n",
      "  res[c] = res[c].replace(\n",
      "C:\\Users\\User\\anaconda3\\lib\\site-packages\\pandas\\core\\generic.py:6662: SettingWithCopyWarning: \n",
      "A value is trying to be set on a copy of a slice from a DataFrame.\n",
      "Try using .loc[row_indexer,col_indexer] = value instead\n",
      "\n",
      "See the caveats in the documentation: https://pandas.pydata.org/pandas-docs/stable/user_guide/indexing.html#returning-a-view-versus-a-copy\n",
      "  res[c] = res[c].replace(\n",
      "C:\\Users\\User\\anaconda3\\lib\\site-packages\\pandas\\core\\generic.py:6662: SettingWithCopyWarning: \n",
      "A value is trying to be set on a copy of a slice from a DataFrame.\n",
      "Try using .loc[row_indexer,col_indexer] = value instead\n",
      "\n",
      "See the caveats in the documentation: https://pandas.pydata.org/pandas-docs/stable/user_guide/indexing.html#returning-a-view-versus-a-copy\n",
      "  res[c] = res[c].replace(\n",
      "C:\\Users\\User\\anaconda3\\lib\\site-packages\\pandas\\core\\generic.py:6662: SettingWithCopyWarning: \n",
      "A value is trying to be set on a copy of a slice from a DataFrame.\n",
      "Try using .loc[row_indexer,col_indexer] = value instead\n",
      "\n",
      "See the caveats in the documentation: https://pandas.pydata.org/pandas-docs/stable/user_guide/indexing.html#returning-a-view-versus-a-copy\n",
      "  res[c] = res[c].replace(\n",
      "C:\\Users\\User\\anaconda3\\lib\\site-packages\\pandas\\core\\generic.py:6662: SettingWithCopyWarning: \n",
      "A value is trying to be set on a copy of a slice from a DataFrame.\n",
      "Try using .loc[row_indexer,col_indexer] = value instead\n",
      "\n",
      "See the caveats in the documentation: https://pandas.pydata.org/pandas-docs/stable/user_guide/indexing.html#returning-a-view-versus-a-copy\n",
      "  res[c] = res[c].replace(\n",
      "C:\\Users\\User\\anaconda3\\lib\\site-packages\\pandas\\core\\generic.py:6662: SettingWithCopyWarning: \n",
      "A value is trying to be set on a copy of a slice from a DataFrame.\n",
      "Try using .loc[row_indexer,col_indexer] = value instead\n",
      "\n",
      "See the caveats in the documentation: https://pandas.pydata.org/pandas-docs/stable/user_guide/indexing.html#returning-a-view-versus-a-copy\n",
      "  res[c] = res[c].replace(\n",
      "C:\\Users\\User\\anaconda3\\lib\\site-packages\\pandas\\core\\generic.py:6662: SettingWithCopyWarning: \n",
      "A value is trying to be set on a copy of a slice from a DataFrame.\n",
      "Try using .loc[row_indexer,col_indexer] = value instead\n",
      "\n",
      "See the caveats in the documentation: https://pandas.pydata.org/pandas-docs/stable/user_guide/indexing.html#returning-a-view-versus-a-copy\n",
      "  res[c] = res[c].replace(\n"
     ]
    },
    {
     "name": "stderr",
     "output_type": "stream",
     "text": [
      "C:\\Users\\User\\anaconda3\\lib\\site-packages\\pandas\\core\\generic.py:6662: SettingWithCopyWarning: \n",
      "A value is trying to be set on a copy of a slice from a DataFrame.\n",
      "Try using .loc[row_indexer,col_indexer] = value instead\n",
      "\n",
      "See the caveats in the documentation: https://pandas.pydata.org/pandas-docs/stable/user_guide/indexing.html#returning-a-view-versus-a-copy\n",
      "  res[c] = res[c].replace(\n",
      "C:\\Users\\User\\anaconda3\\lib\\site-packages\\pandas\\core\\generic.py:6662: SettingWithCopyWarning: \n",
      "A value is trying to be set on a copy of a slice from a DataFrame.\n",
      "Try using .loc[row_indexer,col_indexer] = value instead\n",
      "\n",
      "See the caveats in the documentation: https://pandas.pydata.org/pandas-docs/stable/user_guide/indexing.html#returning-a-view-versus-a-copy\n",
      "  res[c] = res[c].replace(\n",
      "C:\\Users\\User\\anaconda3\\lib\\site-packages\\pandas\\core\\generic.py:6662: SettingWithCopyWarning: \n",
      "A value is trying to be set on a copy of a slice from a DataFrame.\n",
      "Try using .loc[row_indexer,col_indexer] = value instead\n",
      "\n",
      "See the caveats in the documentation: https://pandas.pydata.org/pandas-docs/stable/user_guide/indexing.html#returning-a-view-versus-a-copy\n",
      "  res[c] = res[c].replace(\n",
      "C:\\Users\\User\\anaconda3\\lib\\site-packages\\pandas\\core\\generic.py:6662: SettingWithCopyWarning: \n",
      "A value is trying to be set on a copy of a slice from a DataFrame.\n",
      "Try using .loc[row_indexer,col_indexer] = value instead\n",
      "\n",
      "See the caveats in the documentation: https://pandas.pydata.org/pandas-docs/stable/user_guide/indexing.html#returning-a-view-versus-a-copy\n",
      "  res[c] = res[c].replace(\n",
      "C:\\Users\\User\\anaconda3\\lib\\site-packages\\pandas\\core\\generic.py:6662: SettingWithCopyWarning: \n",
      "A value is trying to be set on a copy of a slice from a DataFrame.\n",
      "Try using .loc[row_indexer,col_indexer] = value instead\n",
      "\n",
      "See the caveats in the documentation: https://pandas.pydata.org/pandas-docs/stable/user_guide/indexing.html#returning-a-view-versus-a-copy\n",
      "  res[c] = res[c].replace(\n",
      "C:\\Users\\User\\anaconda3\\lib\\site-packages\\pandas\\core\\generic.py:6662: SettingWithCopyWarning: \n",
      "A value is trying to be set on a copy of a slice from a DataFrame.\n",
      "Try using .loc[row_indexer,col_indexer] = value instead\n",
      "\n",
      "See the caveats in the documentation: https://pandas.pydata.org/pandas-docs/stable/user_guide/indexing.html#returning-a-view-versus-a-copy\n",
      "  res[c] = res[c].replace(\n",
      "C:\\Users\\User\\anaconda3\\lib\\site-packages\\pandas\\core\\generic.py:6662: SettingWithCopyWarning: \n",
      "A value is trying to be set on a copy of a slice from a DataFrame.\n",
      "Try using .loc[row_indexer,col_indexer] = value instead\n",
      "\n",
      "See the caveats in the documentation: https://pandas.pydata.org/pandas-docs/stable/user_guide/indexing.html#returning-a-view-versus-a-copy\n",
      "  res[c] = res[c].replace(\n",
      "C:\\Users\\User\\anaconda3\\lib\\site-packages\\pandas\\core\\generic.py:6662: SettingWithCopyWarning: \n",
      "A value is trying to be set on a copy of a slice from a DataFrame.\n",
      "Try using .loc[row_indexer,col_indexer] = value instead\n",
      "\n",
      "See the caveats in the documentation: https://pandas.pydata.org/pandas-docs/stable/user_guide/indexing.html#returning-a-view-versus-a-copy\n",
      "  res[c] = res[c].replace(\n",
      "C:\\Users\\User\\anaconda3\\lib\\site-packages\\pandas\\core\\generic.py:6662: SettingWithCopyWarning: \n",
      "A value is trying to be set on a copy of a slice from a DataFrame.\n",
      "Try using .loc[row_indexer,col_indexer] = value instead\n",
      "\n",
      "See the caveats in the documentation: https://pandas.pydata.org/pandas-docs/stable/user_guide/indexing.html#returning-a-view-versus-a-copy\n",
      "  res[c] = res[c].replace(\n",
      "C:\\Users\\User\\anaconda3\\lib\\site-packages\\pandas\\core\\generic.py:6662: SettingWithCopyWarning: \n",
      "A value is trying to be set on a copy of a slice from a DataFrame.\n",
      "Try using .loc[row_indexer,col_indexer] = value instead\n",
      "\n",
      "See the caveats in the documentation: https://pandas.pydata.org/pandas-docs/stable/user_guide/indexing.html#returning-a-view-versus-a-copy\n",
      "  res[c] = res[c].replace(\n",
      "C:\\Users\\User\\anaconda3\\lib\\site-packages\\pandas\\core\\generic.py:6662: SettingWithCopyWarning: \n",
      "A value is trying to be set on a copy of a slice from a DataFrame.\n",
      "Try using .loc[row_indexer,col_indexer] = value instead\n",
      "\n",
      "See the caveats in the documentation: https://pandas.pydata.org/pandas-docs/stable/user_guide/indexing.html#returning-a-view-versus-a-copy\n",
      "  res[c] = res[c].replace(\n",
      "C:\\Users\\User\\anaconda3\\lib\\site-packages\\pandas\\core\\generic.py:6662: SettingWithCopyWarning: \n",
      "A value is trying to be set on a copy of a slice from a DataFrame.\n",
      "Try using .loc[row_indexer,col_indexer] = value instead\n",
      "\n",
      "See the caveats in the documentation: https://pandas.pydata.org/pandas-docs/stable/user_guide/indexing.html#returning-a-view-versus-a-copy\n",
      "  res[c] = res[c].replace(\n",
      "C:\\Users\\User\\anaconda3\\lib\\site-packages\\pandas\\core\\generic.py:6662: SettingWithCopyWarning: \n",
      "A value is trying to be set on a copy of a slice from a DataFrame.\n",
      "Try using .loc[row_indexer,col_indexer] = value instead\n",
      "\n",
      "See the caveats in the documentation: https://pandas.pydata.org/pandas-docs/stable/user_guide/indexing.html#returning-a-view-versus-a-copy\n",
      "  res[c] = res[c].replace(\n",
      "C:\\Users\\User\\anaconda3\\lib\\site-packages\\pandas\\core\\generic.py:6662: SettingWithCopyWarning: \n",
      "A value is trying to be set on a copy of a slice from a DataFrame.\n",
      "Try using .loc[row_indexer,col_indexer] = value instead\n",
      "\n",
      "See the caveats in the documentation: https://pandas.pydata.org/pandas-docs/stable/user_guide/indexing.html#returning-a-view-versus-a-copy\n",
      "  res[c] = res[c].replace(\n",
      "C:\\Users\\User\\anaconda3\\lib\\site-packages\\pandas\\core\\generic.py:6662: SettingWithCopyWarning: \n",
      "A value is trying to be set on a copy of a slice from a DataFrame.\n",
      "Try using .loc[row_indexer,col_indexer] = value instead\n",
      "\n",
      "See the caveats in the documentation: https://pandas.pydata.org/pandas-docs/stable/user_guide/indexing.html#returning-a-view-versus-a-copy\n",
      "  res[c] = res[c].replace(\n",
      "C:\\Users\\User\\anaconda3\\lib\\site-packages\\pandas\\core\\generic.py:6662: SettingWithCopyWarning: \n",
      "A value is trying to be set on a copy of a slice from a DataFrame.\n",
      "Try using .loc[row_indexer,col_indexer] = value instead\n",
      "\n",
      "See the caveats in the documentation: https://pandas.pydata.org/pandas-docs/stable/user_guide/indexing.html#returning-a-view-versus-a-copy\n",
      "  res[c] = res[c].replace(\n",
      "C:\\Users\\User\\anaconda3\\lib\\site-packages\\pandas\\core\\generic.py:6662: SettingWithCopyWarning: \n",
      "A value is trying to be set on a copy of a slice from a DataFrame.\n",
      "Try using .loc[row_indexer,col_indexer] = value instead\n",
      "\n",
      "See the caveats in the documentation: https://pandas.pydata.org/pandas-docs/stable/user_guide/indexing.html#returning-a-view-versus-a-copy\n",
      "  res[c] = res[c].replace(\n",
      "C:\\Users\\User\\anaconda3\\lib\\site-packages\\pandas\\core\\generic.py:6662: SettingWithCopyWarning: \n",
      "A value is trying to be set on a copy of a slice from a DataFrame.\n",
      "Try using .loc[row_indexer,col_indexer] = value instead\n",
      "\n",
      "See the caveats in the documentation: https://pandas.pydata.org/pandas-docs/stable/user_guide/indexing.html#returning-a-view-versus-a-copy\n",
      "  res[c] = res[c].replace(\n",
      "C:\\Users\\User\\anaconda3\\lib\\site-packages\\pandas\\core\\generic.py:6662: SettingWithCopyWarning: \n",
      "A value is trying to be set on a copy of a slice from a DataFrame.\n",
      "Try using .loc[row_indexer,col_indexer] = value instead\n",
      "\n",
      "See the caveats in the documentation: https://pandas.pydata.org/pandas-docs/stable/user_guide/indexing.html#returning-a-view-versus-a-copy\n",
      "  res[c] = res[c].replace(\n",
      "C:\\Users\\User\\anaconda3\\lib\\site-packages\\pandas\\core\\generic.py:6662: SettingWithCopyWarning: \n",
      "A value is trying to be set on a copy of a slice from a DataFrame.\n",
      "Try using .loc[row_indexer,col_indexer] = value instead\n",
      "\n",
      "See the caveats in the documentation: https://pandas.pydata.org/pandas-docs/stable/user_guide/indexing.html#returning-a-view-versus-a-copy\n",
      "  res[c] = res[c].replace(\n",
      "C:\\Users\\User\\anaconda3\\lib\\site-packages\\pandas\\core\\generic.py:6662: SettingWithCopyWarning: \n",
      "A value is trying to be set on a copy of a slice from a DataFrame.\n",
      "Try using .loc[row_indexer,col_indexer] = value instead\n",
      "\n",
      "See the caveats in the documentation: https://pandas.pydata.org/pandas-docs/stable/user_guide/indexing.html#returning-a-view-versus-a-copy\n",
      "  res[c] = res[c].replace(\n",
      "C:\\Users\\User\\anaconda3\\lib\\site-packages\\pandas\\core\\generic.py:6662: SettingWithCopyWarning: \n",
      "A value is trying to be set on a copy of a slice from a DataFrame.\n",
      "Try using .loc[row_indexer,col_indexer] = value instead\n",
      "\n",
      "See the caveats in the documentation: https://pandas.pydata.org/pandas-docs/stable/user_guide/indexing.html#returning-a-view-versus-a-copy\n",
      "  res[c] = res[c].replace(\n"
     ]
    },
    {
     "data": {
      "image/png": "[encoded data removed]",
      "text/plain": [
       "<Figure size 432x288 with 1 Axes>"
      ]
     },
     "metadata": {
      "needs_background": "light"
     },
     "output_type": "display_data"
    }
   ],
   "source": [
    "# For decision tree\n",
    "accuracy = []\n",
    "for i in range(1, 155):\n",
    "    accuracy.append(feature_select(i))\n",
    "plt.plot(accuracy)\n",
    "plt.ylabel('Accuracy')\n",
    "plt.show()"
   ]
  },
  {
   "cell_type": "code",
   "execution_count": 63,
   "metadata": {},
   "outputs": [
    {
     "data": {
      "text/plain": [
       "[0.3333333333333333,\n",
       " 0.3333333333333333,\n",
       " 0.3333333333333333,\n",
       " 0.3333333333333333,\n",
       " 0.3333333333333333,\n",
       " 0.3333333333333333,\n",
       " 0.3333333333333333,\n",
       " 0.3333333333333333,\n",
       " 0.3333333333333333,\n",
       " 0.3333333333333333,\n",
       " 0.3333333333333333,\n",
       " 0.3333333333333333,\n",
       " 0.3333333333333333,\n",
       " 0.3333333333333333,\n",
       " 0.3333333333333333,\n",
       " 0.3333333333333333,\n",
       " 0.3333333333333333,\n",
       " 0.3333333333333333,\n",
       " 0.3333333333333333,\n",
       " 0.3333333333333333,\n",
       " 0.3333333333333333,\n",
       " 0.3333333333333333,\n",
       " 0.3333333333333333,\n",
       " 0.3333333333333333,\n",
       " 0.3333333333333333,\n",
       " 0.3333333333333333,\n",
       " 0.3333333333333333,\n",
       " 0.3333333333333333,\n",
       " 0.3333333333333333,\n",
       " 0.3333333333333333,\n",
       " 0.3333333333333333,\n",
       " 0.3333333333333333,\n",
       " 0.3333333333333333,\n",
       " 0.3333333333333333,\n",
       " 0.3333333333333333,\n",
       " 0.3333333333333333,\n",
       " 0.3333333333333333,\n",
       " 0.3333333333333333,\n",
       " 0.3333333333333333,\n",
       " 0.3333333333333333,\n",
       " 0.3333333333333333,\n",
       " 0.3333333333333333,\n",
       " 0.3333333333333333,\n",
       " 0.3333333333333333,\n",
       " 0.3333333333333333,\n",
       " 0.3333333333333333,\n",
       " 0.3333333333333333,\n",
       " 0.3333333333333333,\n",
       " 0.3333333333333333,\n",
       " 0.3333333333333333,\n",
       " 0.3333333333333333,\n",
       " 0.3333333333333333,\n",
       " 0.3333333333333333,\n",
       " 0.3333333333333333,\n",
       " 0.3333333333333333,\n",
       " 0.3333333333333333,\n",
       " 0.3333333333333333,\n",
       " 0.3333333333333333,\n",
       " 0.3333333333333333,\n",
       " 0.3333333333333333,\n",
       " 0.3333333333333333,\n",
       " 0.3333333333333333,\n",
       " 0.3333333333333333,\n",
       " 0.3333333333333333,\n",
       " 0.3333333333333333,\n",
       " 0.3333333333333333,\n",
       " 0.3333333333333333,\n",
       " 0.3333333333333333,\n",
       " 0.3333333333333333,\n",
       " 0.3333333333333333,\n",
       " 0.3333333333333333,\n",
       " 0.3333333333333333,\n",
       " 0.3333333333333333,\n",
       " 0.3333333333333333,\n",
       " 0.3333333333333333,\n",
       " 0.3333333333333333,\n",
       " 0.3333333333333333,\n",
       " 0.3333333333333333,\n",
       " 0.3333333333333333,\n",
       " 0.3333333333333333,\n",
       " 0.3333333333333333,\n",
       " 0.3333333333333333,\n",
       " 0.3333333333333333,\n",
       " 0.3333333333333333,\n",
       " 0.3333333333333333,\n",
       " 0.3333333333333333,\n",
       " 0.3333333333333333,\n",
       " 0.3333333333333333,\n",
       " 0.3333333333333333,\n",
       " 0.3333333333333333,\n",
       " 0.3333333333333333,\n",
       " 0.3333333333333333,\n",
       " 0.3333333333333333,\n",
       " 0.3333333333333333,\n",
       " 0.3333333333333333,\n",
       " 0.3333333333333333,\n",
       " 0.3333333333333333,\n",
       " 0.3333333333333333,\n",
       " 0.3333333333333333,\n",
       " 0.3333333333333333,\n",
       " 0.3333333333333333,\n",
       " 0.3333333333333333,\n",
       " 0.3333333333333333,\n",
       " 0.3333333333333333,\n",
       " 0.3333333333333333,\n",
       " 0.3333333333333333,\n",
       " 0.3333333333333333,\n",
       " 0.3333333333333333,\n",
       " 0.3333333333333333,\n",
       " 0.3333333333333333,\n",
       " 0.3333333333333333,\n",
       " 0.3333333333333333,\n",
       " 0.3333333333333333,\n",
       " 0.3333333333333333,\n",
       " 0.3333333333333333,\n",
       " 0.3333333333333333,\n",
       " 0.3333333333333333,\n",
       " 0.3333333333333333,\n",
       " 0.3333333333333333,\n",
       " 0.3333333333333333,\n",
       " 0.3333333333333333,\n",
       " 0.3333333333333333,\n",
       " 0.3333333333333333,\n",
       " 0.3333333333333333,\n",
       " 0.3333333333333333,\n",
       " 0.3333333333333333,\n",
       " 0.3333333333333333,\n",
       " 0.3333333333333333,\n",
       " 0.3333333333333333,\n",
       " 0.3333333333333333,\n",
       " 0.3333333333333333,\n",
       " 0.3333333333333333,\n",
       " 0.3333333333333333,\n",
       " 0.3333333333333333,\n",
       " 0.3333333333333333,\n",
       " 0.3333333333333333,\n",
       " 0.3333333333333333,\n",
       " 0.3333333333333333,\n",
       " 0.3333333333333333,\n",
       " 0.3333333333333333,\n",
       " 0.3333333333333333,\n",
       " 0.3333333333333333,\n",
       " 0.3333333333333333,\n",
       " 0.3333333333333333,\n",
       " 0.3333333333333333,\n",
       " 0.3333333333333333,\n",
       " 0.3333333333333333,\n",
       " 0.3333333333333333,\n",
       " 0.3333333333333333,\n",
       " 0.3333333333333333,\n",
       " 0.3333333333333333,\n",
       " 0.3333333333333333,\n",
       " 0.3333333333333333,\n",
       " 0.3333333333333333]"
      ]
     },
     "execution_count": 63,
     "metadata": {},
     "output_type": "execute_result"
    }
   ],
   "source": [
    "accuracy"
   ]
  },
  {
   "cell_type": "markdown",
   "metadata": {},
   "source": [
    "### Bagging on Metadata and Audio Features"
   ]
  },
  {
   "cell_type": "code",
   "execution_count": 38,
   "metadata": {},
   "outputs": [
    {
     "name": "stderr",
     "output_type": "stream",
     "text": [
      "C:\\Users\\User\\anaconda3\\lib\\site-packages\\pandas\\core\\generic.py:6662: SettingWithCopyWarning: \n",
      "A value is trying to be set on a copy of a slice from a DataFrame.\n",
      "Try using .loc[row_indexer,col_indexer] = value instead\n",
      "\n",
      "See the caveats in the documentation: https://pandas.pydata.org/pandas-docs/stable/user_guide/indexing.html#returning-a-view-versus-a-copy\n",
      "  res[c] = res[c].replace(\n"
     ]
    },
    {
     "name": "stdout",
     "output_type": "stream",
     "text": [
      "GNB 0.4911111111111111\n",
      "Tree 0.32\n",
      "MLP 0.41555555555555557\n"
     ]
    }
   ],
   "source": [
    "gnb\n",
    "meta_audio_decision_tree\n",
    "mlp\n",
    "\n",
    "# Preprocessing data for audio and metadata features\n",
    "meta_audio_train_features, meta_audio_train_labels, meta_audio_valid_features, meta_audio_valid_labels, meta_audio_test_features = meta_audio_pre_process()\n",
    "\n",
    "bag1 = BaggingClassifier(base_estimator=gnb).fit(meta_audio_train_features, meta_audio_train_labels.values.ravel())\n",
    "bag2 = BaggingClassifier(base_estimator=meta_audio_decision_tree).fit(meta_audio_train_features, meta_audio_train_labels.values.ravel())\n",
    "bag3 = BaggingClassifier(base_estimator=mlp).fit(meta_audio_train_features, meta_audio_train_labels.values.ravel())\n",
    "\n",
    "print(\"GNB\",bag1.score(meta_audio_valid_features, meta_audio_valid_labels.values.ravel()))\n",
    "print(\"Tree\",bag2.score(meta_audio_valid_features, meta_audio_valid_labels.values.ravel()))\n",
    "print(\"MLP\",bag3.score(meta_audio_valid_features, meta_audio_valid_labels.values.ravel()))\n",
    "\n",
    "\n",
    "\n"
   ]
  },
  {
   "cell_type": "code",
   "execution_count": null,
   "metadata": {},
   "outputs": [],
   "source": []
  },
  {
   "cell_type": "code",
   "execution_count": null,
   "metadata": {},
   "outputs": [],
   "source": []
  }
 ],
 "metadata": {
  "kernelspec": {
   "display_name": "Python 3",
   "language": "python",
   "name": "python3"
  },
  "language_info": {
   "codemirror_mode": {
    "name": "ipython",
    "version": 3
   },
   "file_extension": ".py",
   "mimetype": "text/x-python",
   "name": "python",
   "nbconvert_exporter": "python",
   "pygments_lexer": "ipython3",
   "version": "3.8.3"
  }
 },
 "nbformat": 4,
 "nbformat_minor": 4
}
